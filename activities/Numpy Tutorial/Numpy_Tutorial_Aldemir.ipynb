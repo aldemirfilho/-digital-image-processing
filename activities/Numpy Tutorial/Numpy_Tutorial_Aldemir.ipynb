{
  "nbformat": 4,
  "nbformat_minor": 0,
  "metadata": {
    "colab": {
      "provenance": [],
      "collapsed_sections": [
        "EGiQ8HzC0JPu",
        "3di262PRbKNf",
        "3YLi8g6sSlH0",
        "EIEdWlN9MTAq",
        "UD0jLNF1Nus7",
        "S-skuAgbXbHH",
        "R0ibYhDPbkkm",
        "To_D049ih5-q",
        "mWHZdPjMv1d1",
        "ang-sG_z7JfL",
        "by-MiMrM9Na9"
      ],
      "toc_visible": true
    },
    "kernelspec": {
      "name": "python3",
      "display_name": "Python 3"
    },
    "language_info": {
      "name": "python"
    }
  },
  "cells": [
    {
      "cell_type": "code",
      "execution_count": null,
      "metadata": {
        "id": "M4Wz_o4nz2qC"
      },
      "outputs": [],
      "source": [
        "import numpy as np"
      ]
    },
    {
      "cell_type": "markdown",
      "source": [
        "# NumPy Array\n"
      ],
      "metadata": {
        "id": "EGiQ8HzC0JPu"
      }
    },
    {
      "cell_type": "markdown",
      "source": [
        "## How to create an empty and a full NumPy array?"
      ],
      "metadata": {
        "id": "NpNnMVZb0wiQ"
      }
    },
    {
      "cell_type": "code",
      "source": [
        "# empty\n",
        "print(\"Empty:\\n\")\n",
        "size = 10\n",
        "array = np.empty(size)\n",
        "array"
      ],
      "metadata": {
        "colab": {
          "base_uri": "https://localhost:8080/"
        },
        "id": "eIN2hekH07JI",
        "outputId": "8e824337-d3ab-40e2-93a2-a2904824b2f0"
      },
      "execution_count": null,
      "outputs": [
        {
          "output_type": "stream",
          "name": "stdout",
          "text": [
            "Empty:\n",
            "\n"
          ]
        },
        {
          "output_type": "execute_result",
          "data": {
            "text/plain": [
              "array([2.11845547e-316, 1.77863633e-322, 0.00000000e+000, 0.00000000e+000,\n",
              "       0.00000000e+000, 1.32654782e-047, 4.90466556e-062, 4.71082780e-090,\n",
              "       1.05144325e-046, 4.41080734e-315])"
            ]
          },
          "metadata": {},
          "execution_count": 3
        }
      ]
    },
    {
      "cell_type": "code",
      "source": [
        "# FULL\n",
        "print(\"Full:\\n\")\n",
        "array = np.full(size, 10)\n",
        "array"
      ],
      "metadata": {
        "colab": {
          "base_uri": "https://localhost:8080/"
        },
        "id": "mWTwyDnL1jx2",
        "outputId": "f7251cae-468c-4958-c72a-91473d815bdc"
      },
      "execution_count": null,
      "outputs": [
        {
          "output_type": "stream",
          "name": "stdout",
          "text": [
            "Full:\n",
            "\n"
          ]
        },
        {
          "output_type": "execute_result",
          "data": {
            "text/plain": [
              "array([10, 10, 10, 10, 10, 10, 10, 10, 10, 10])"
            ]
          },
          "metadata": {},
          "execution_count": 4
        }
      ]
    },
    {
      "cell_type": "markdown",
      "source": [
        "## Create a Numpy array filled with all zeros"
      ],
      "metadata": {
        "id": "cqXz5SjK16yl"
      }
    },
    {
      "cell_type": "code",
      "source": [
        "array = np.zeros(size)\n",
        "array"
      ],
      "metadata": {
        "colab": {
          "base_uri": "https://localhost:8080/"
        },
        "id": "erkUR4eD2E0z",
        "outputId": "c29537bf-7298-4846-c4cc-06fc0689f8cc"
      },
      "execution_count": null,
      "outputs": [
        {
          "output_type": "execute_result",
          "data": {
            "text/plain": [
              "array([0., 0., 0., 0., 0., 0., 0., 0., 0., 0.])"
            ]
          },
          "metadata": {},
          "execution_count": 239
        }
      ]
    },
    {
      "cell_type": "markdown",
      "source": [
        "## Create a Numpy array filled with all ones"
      ],
      "metadata": {
        "id": "R-m9NGNF2k5u"
      }
    },
    {
      "cell_type": "code",
      "source": [
        "array = np.ones((5,5))\n",
        "array"
      ],
      "metadata": {
        "colab": {
          "base_uri": "https://localhost:8080/"
        },
        "id": "FPLBkp1t2ml_",
        "outputId": "aa8bce4a-2db1-4849-cb0d-a08ae1d20025"
      },
      "execution_count": null,
      "outputs": [
        {
          "output_type": "execute_result",
          "data": {
            "text/plain": [
              "array([[1., 1., 1., 1., 1.],\n",
              "       [1., 1., 1., 1., 1.],\n",
              "       [1., 1., 1., 1., 1.],\n",
              "       [1., 1., 1., 1., 1.],\n",
              "       [1., 1., 1., 1., 1.]])"
            ]
          },
          "metadata": {},
          "execution_count": 240
        }
      ]
    },
    {
      "cell_type": "markdown",
      "source": [
        "## Check whether a Numpy array contains a specified row"
      ],
      "metadata": {
        "id": "rCX0YXBy3j22"
      }
    },
    {
      "cell_type": "code",
      "source": [
        "#Iremos comparar com o array da questão anterior\n",
        "\n",
        "linha = [1, 2, 3, 4, 5]\n",
        "contains = linha in array.tolist()\n",
        "print(\"Test 1: \", contains)\n",
        "\n",
        "linha2 = [1, 1, 1, 1, 1]\n",
        "contains = linha2 in array.tolist()\n",
        "print(\"Test 2: \", contains)"
      ],
      "metadata": {
        "colab": {
          "base_uri": "https://localhost:8080/"
        },
        "id": "pjs7TgzL3lWt",
        "outputId": "cc26b712-fe61-4d8d-b3b7-b486df465164"
      },
      "execution_count": null,
      "outputs": [
        {
          "output_type": "stream",
          "name": "stdout",
          "text": [
            "Test 1:  False\n",
            "Test 2:  True\n"
          ]
        }
      ]
    },
    {
      "cell_type": "markdown",
      "source": [
        "## How to Remove rows in Numpy array that contains non-numeric values?"
      ],
      "metadata": {
        "id": "aUK6u2v35mod"
      }
    },
    {
      "cell_type": "code",
      "source": [
        "array = np.array([[1, 2, 3, 4, 5],[6, 7, np.nan, np.nan, np.nan]])\n",
        "print(\"Array sem remoção: \\n\", array)\n",
        "array_row_removed = array[~np.isnan(array).any(axis=1)]\n",
        "print(\"\\nArray com remoção: \\n\", array_row_removed)"
      ],
      "metadata": {
        "colab": {
          "base_uri": "https://localhost:8080/"
        },
        "id": "P7lZvsuX5oQ4",
        "outputId": "02eea8a2-6c07-4a26-dbe8-00ecbeee079f"
      },
      "execution_count": null,
      "outputs": [
        {
          "output_type": "stream",
          "name": "stdout",
          "text": [
            "Array sem remoção: \n",
            " [[ 1.  2.  3.  4.  5.]\n",
            " [ 6.  7. nan nan nan]]\n",
            "\n",
            "Array com remoção: \n",
            " [[1. 2. 3. 4. 5.]]\n"
          ]
        }
      ]
    },
    {
      "cell_type": "markdown",
      "source": [
        "## Remove single-dimensional entries from the shape of an array"
      ],
      "metadata": {
        "id": "J9eQft-k7mT4"
      }
    },
    {
      "cell_type": "code",
      "source": [
        "array = np.array([[[1], [2], [3]], [[4], [5],[6]]])\n",
        "print(\"Inicialmente: \\n\", array)\n",
        "print(\"\\nFormato: \", array.shape)\n",
        "out = np.squeeze(array)\n",
        "\n",
        "print(\"\\nApós o squeeze: \\n\", out)\n",
        "print(\"\\nNovo formato: \", out.shape)"
      ],
      "metadata": {
        "colab": {
          "base_uri": "https://localhost:8080/"
        },
        "id": "edjxy9sb7nif",
        "outputId": "37e61fa7-2cd5-46f3-fae3-ce8a74bca68f"
      },
      "execution_count": null,
      "outputs": [
        {
          "output_type": "stream",
          "name": "stdout",
          "text": [
            "Inicialmente: \n",
            " [[[1]\n",
            "  [2]\n",
            "  [3]]\n",
            "\n",
            " [[4]\n",
            "  [5]\n",
            "  [6]]]\n",
            "\n",
            "Formato:  (2, 3, 1)\n",
            "\n",
            "Após o squeeze: \n",
            " [[1 2 3]\n",
            " [4 5 6]]\n",
            "\n",
            "Novo formato:  (2, 3)\n"
          ]
        }
      ]
    },
    {
      "cell_type": "markdown",
      "source": [
        "## Find the number of occurrences of a sequence in a NumPy array"
      ],
      "metadata": {
        "id": "6yXFSccm_D94"
      }
    },
    {
      "cell_type": "code",
      "source": [
        "array = np.array([[88, 11, 73, 22], [61, 78, 73, 22], [95, 31, 73, 22]])\n",
        "count = repr(array).count(\"73, 22\")\n",
        "print(\"Ocorrencia da frequencia que mais se repete: \", count, \" vezes.\")"
      ],
      "metadata": {
        "colab": {
          "base_uri": "https://localhost:8080/"
        },
        "id": "3RO63nyf_MOf",
        "outputId": "f62b6e87-834a-4a15-ee28-bcc5ac206bf2"
      },
      "execution_count": null,
      "outputs": [
        {
          "output_type": "stream",
          "name": "stdout",
          "text": [
            "Ocorrencia da frequencia que mais se repete:  3  vezes.\n"
          ]
        }
      ]
    },
    {
      "cell_type": "markdown",
      "source": [
        "##Find the most frequent value in a NumPy array"
      ],
      "metadata": {
        "id": "TY-hQ9K_DDxi"
      }
    },
    {
      "cell_type": "code",
      "source": [
        "array = np.array([1, 2, 3, 4, 5, 4, 7, 4, 9, 4])\n",
        "np.bincount(array).argmax()"
      ],
      "metadata": {
        "colab": {
          "base_uri": "https://localhost:8080/"
        },
        "id": "-myhUwONDFEi",
        "outputId": "d9e1ed60-1935-4300-f7f5-9e5e393bb53c"
      },
      "execution_count": null,
      "outputs": [
        {
          "output_type": "execute_result",
          "data": {
            "text/plain": [
              "4"
            ]
          },
          "metadata": {},
          "execution_count": 245
        }
      ]
    },
    {
      "cell_type": "markdown",
      "source": [
        "##Combining a one and a two-dimensional NumPy Array"
      ],
      "metadata": {
        "id": "9DH_nbaPFJb8"
      }
    },
    {
      "cell_type": "code",
      "source": [
        "a = np.array([[1, 2], [3, 4]])\n",
        "b = np.array([5, 6])\n",
        "\n",
        "print(\"array 1: \\n\", a)\n",
        "print(\"\\narray 2: \\n\", b)\n",
        "print(\"\\ncombining: \\n\", np.vstack((a, b)))"
      ],
      "metadata": {
        "colab": {
          "base_uri": "https://localhost:8080/"
        },
        "id": "Cm2RY6F6FLAn",
        "outputId": "7a250807-bc05-413d-9f87-d0759fba6cd1"
      },
      "execution_count": null,
      "outputs": [
        {
          "output_type": "stream",
          "name": "stdout",
          "text": [
            "array 1: \n",
            " [[1 2]\n",
            " [3 4]]\n",
            "\n",
            "array 2: \n",
            " [5 6]\n",
            "\n",
            "combining: \n",
            " [[1 2]\n",
            " [3 4]\n",
            " [5 6]]\n"
          ]
        }
      ]
    },
    {
      "cell_type": "markdown",
      "source": [
        "## How to build an array of all combinations of two NumPy arrays?"
      ],
      "metadata": {
        "id": "dr_atc4XFlKE"
      }
    },
    {
      "cell_type": "code",
      "source": [
        "array1 = np.array([1, 2])\n",
        "array2 = np.array([3, 4]) \n",
        "\n",
        "c = np.array(np.meshgrid(array1, array2)).T.reshape(-1, 2)\n",
        "c = np.vstack((c, array1))\n",
        "c = np.vstack((c, array2))\n",
        "c"
      ],
      "metadata": {
        "colab": {
          "base_uri": "https://localhost:8080/"
        },
        "id": "UGTtjqZCFipc",
        "outputId": "26a1f60a-3a27-4eb4-d801-9babd076f346"
      },
      "execution_count": null,
      "outputs": [
        {
          "output_type": "execute_result",
          "data": {
            "text/plain": [
              "array([[1, 3],\n",
              "       [1, 4],\n",
              "       [2, 3],\n",
              "       [2, 4],\n",
              "       [1, 2],\n",
              "       [3, 4]])"
            ]
          },
          "metadata": {},
          "execution_count": 247
        }
      ]
    },
    {
      "cell_type": "markdown",
      "source": [
        "##How to add a border around a NumPy array?"
      ],
      "metadata": {
        "id": "gJFwx3-BIEhG"
      }
    },
    {
      "cell_type": "markdown",
      "source": [],
      "metadata": {
        "id": "6BbxowxpJmvz"
      }
    },
    {
      "cell_type": "code",
      "source": [
        "array = np.ones((5, 5))\n",
        "print(\"array de 'ums':\\n\\n\", array)\n",
        "\n",
        "array_border = np.pad(array, pad_width=1, mode='constant', constant_values = 0)\n",
        "print(\"\\n----------\\narray com borda:\\n\\n\", array_border)"
      ],
      "metadata": {
        "colab": {
          "base_uri": "https://localhost:8080/"
        },
        "id": "PxyizkfeIHhp",
        "outputId": "f7aa8abf-65a8-4edd-fd0c-f0a196d7b60f"
      },
      "execution_count": null,
      "outputs": [
        {
          "output_type": "stream",
          "name": "stdout",
          "text": [
            "array de 'ums':\n",
            "\n",
            " [[1. 1. 1. 1. 1.]\n",
            " [1. 1. 1. 1. 1.]\n",
            " [1. 1. 1. 1. 1.]\n",
            " [1. 1. 1. 1. 1.]\n",
            " [1. 1. 1. 1. 1.]]\n",
            "\n",
            "----------\n",
            "array com borda:\n",
            "\n",
            " [[0. 0. 0. 0. 0. 0. 0.]\n",
            " [0. 1. 1. 1. 1. 1. 0.]\n",
            " [0. 1. 1. 1. 1. 1. 0.]\n",
            " [0. 1. 1. 1. 1. 1. 0.]\n",
            " [0. 1. 1. 1. 1. 1. 0.]\n",
            " [0. 1. 1. 1. 1. 1. 0.]\n",
            " [0. 0. 0. 0. 0. 0. 0.]]\n"
          ]
        }
      ]
    },
    {
      "cell_type": "markdown",
      "source": [
        "##How to compare two NumPy arrays?"
      ],
      "metadata": {
        "id": "PYSpRnz9JuAc"
      }
    },
    {
      "cell_type": "code",
      "source": [
        "array1 = np.array([1, 2])\n",
        "array2 = np.array([3, 4])\n",
        "array3 = np.array([3 ,4])\n",
        "\n",
        "print(\"Comparação array1 com array2: \\n\", np.array_equal(array1, array2))\n",
        "\n",
        "print(\"\\nComparação array1 com array3: \\n\", np.array_equal(array1, array3))\n",
        "\n",
        "print(\"\\nComparação array2 com array3: \\n\", np.array_equal(array2, array3))"
      ],
      "metadata": {
        "colab": {
          "base_uri": "https://localhost:8080/"
        },
        "id": "ll9CcB-zJvTr",
        "outputId": "d2233e2f-579f-4441-9c5d-d7dfb6304a38"
      },
      "execution_count": null,
      "outputs": [
        {
          "output_type": "stream",
          "name": "stdout",
          "text": [
            "Comparação array1 com array2: \n",
            " False\n",
            "\n",
            "Comparação array1 com array3: \n",
            " False\n",
            "\n",
            "Comparação array2 com array3: \n",
            " True\n"
          ]
        }
      ]
    },
    {
      "cell_type": "markdown",
      "source": [
        "## How to check whether specified values are present in NumPy array?"
      ],
      "metadata": {
        "id": "nLxnU2BQK6yt"
      }
    },
    {
      "cell_type": "code",
      "source": [
        "array = np.array([1, 2, 3, 4, 5, 6, 7, 8, 9, 10])\n",
        "\n",
        "print(\"array: \", array)\n",
        "print(\"\\nCheck se 5 está presente no array: \", 5 in array)\n",
        "print(\"\\nCheck se 12 está presente no array: \", 12 in array)"
      ],
      "metadata": {
        "colab": {
          "base_uri": "https://localhost:8080/"
        },
        "id": "oPQacRaEK99T",
        "outputId": "14f2c9de-2aae-41bf-a6b1-e9a544a52db6"
      },
      "execution_count": null,
      "outputs": [
        {
          "output_type": "stream",
          "name": "stdout",
          "text": [
            "array:  [ 1  2  3  4  5  6  7  8  9 10]\n",
            "\n",
            "Check se 5 está presente no array:  True\n",
            "\n",
            "Check se 12 está presente no array:  False\n"
          ]
        }
      ]
    },
    {
      "cell_type": "markdown",
      "source": [
        "## How to get all 2D diagonals of a 3D NumPy array?"
      ],
      "metadata": {
        "id": "C2lMFC2rMHzl"
      }
    },
    {
      "cell_type": "code",
      "source": [
        "array = np.arange(75).reshape(3,5,5)\n",
        "print(array)\n",
        "diag = np.diagonal(array,axis1=1,axis2=2)\n",
        "print(\"\\nDiagonal\")\n",
        "print(diag)"
      ],
      "metadata": {
        "colab": {
          "base_uri": "https://localhost:8080/"
        },
        "id": "j6Z5VS3HMMLM",
        "outputId": "64ed9a8a-47cf-4ae6-9390-196be38868d6"
      },
      "execution_count": null,
      "outputs": [
        {
          "output_type": "stream",
          "name": "stdout",
          "text": [
            "[[[ 0  1  2  3  4]\n",
            "  [ 5  6  7  8  9]\n",
            "  [10 11 12 13 14]\n",
            "  [15 16 17 18 19]\n",
            "  [20 21 22 23 24]]\n",
            "\n",
            " [[25 26 27 28 29]\n",
            "  [30 31 32 33 34]\n",
            "  [35 36 37 38 39]\n",
            "  [40 41 42 43 44]\n",
            "  [45 46 47 48 49]]\n",
            "\n",
            " [[50 51 52 53 54]\n",
            "  [55 56 57 58 59]\n",
            "  [60 61 62 63 64]\n",
            "  [65 66 67 68 69]\n",
            "  [70 71 72 73 74]]]\n",
            "\n",
            "Diagonal\n",
            "[[ 0  6 12 18 24]\n",
            " [25 31 37 43 49]\n",
            " [50 56 62 68 74]]\n"
          ]
        }
      ]
    },
    {
      "cell_type": "markdown",
      "source": [
        "##Flatten a Matrix in Python using NumPy"
      ],
      "metadata": {
        "id": "o8G0C_6ZOCPm"
      }
    },
    {
      "cell_type": "code",
      "source": [
        "array = np.matrix([[1, 2], [3, 4], [5, 6]])\n",
        "print(\"Matrix inicial: \\n\", array)\n",
        "array_flatten = array.flatten()\n",
        "print(\"\\nMatrix flatten: \\n\", array_flatten)"
      ],
      "metadata": {
        "colab": {
          "base_uri": "https://localhost:8080/"
        },
        "id": "Ks-U06t5OFiU",
        "outputId": "3c3b8f8a-7796-409d-e188-47978a31e25b"
      },
      "execution_count": null,
      "outputs": [
        {
          "output_type": "stream",
          "name": "stdout",
          "text": [
            "Matrix inicial: \n",
            " [[1 2]\n",
            " [3 4]\n",
            " [5 6]]\n",
            "\n",
            "Matrix flatten: \n",
            " [[1 2 3 4 5 6]]\n"
          ]
        }
      ]
    },
    {
      "cell_type": "markdown",
      "source": [
        "##Flatten a 2d numpy array into 1d array"
      ],
      "metadata": {
        "id": "fHLg1kWOOsvw"
      }
    },
    {
      "cell_type": "code",
      "source": [
        "array = np.array([[1, 2], [3, 4], [5, 6]])\n",
        "print(\"array 2d inicial: \\n\", array)\n",
        "array_flatten = array.flatten()\n",
        "print(\"\\nMatrix flatten: \\n\", array_flatten)"
      ],
      "metadata": {
        "colab": {
          "base_uri": "https://localhost:8080/"
        },
        "id": "GPFS3QqIOwok",
        "outputId": "ce652063-85f0-4b8c-cffd-8f1e8781f1b9"
      },
      "execution_count": null,
      "outputs": [
        {
          "output_type": "stream",
          "name": "stdout",
          "text": [
            "array 2d inicial: \n",
            " [[1 2]\n",
            " [3 4]\n",
            " [5 6]]\n",
            "\n",
            "Matrix flatten: \n",
            " [1 2 3 4 5 6]\n"
          ]
        }
      ]
    },
    {
      "cell_type": "markdown",
      "source": [
        "##Move axes of an array to new positions"
      ],
      "metadata": {
        "id": "UWKjGYNSQLOE"
      }
    },
    {
      "cell_type": "code",
      "source": [
        "array = np.zeros((3, 3, 2))\n",
        "print(\"Array inicial: \\n\", \"shape: \", array.shape, \"\\n\\n\", array)\n",
        "an = np.moveaxis(array, 0, -1)\n",
        "print(\"\\nArray movido: \\n\", \"shape: \", an.shape, \"\\n\\n\", an)"
      ],
      "metadata": {
        "colab": {
          "base_uri": "https://localhost:8080/"
        },
        "id": "MZykT5BcQNfv",
        "outputId": "3c4f67f8-77c3-46f2-d7a7-2fe0b3b58e7b"
      },
      "execution_count": null,
      "outputs": [
        {
          "output_type": "stream",
          "name": "stdout",
          "text": [
            "Array inicial: \n",
            " shape:  (3, 3, 2) \n",
            "\n",
            " [[[0. 0.]\n",
            "  [0. 0.]\n",
            "  [0. 0.]]\n",
            "\n",
            " [[0. 0.]\n",
            "  [0. 0.]\n",
            "  [0. 0.]]\n",
            "\n",
            " [[0. 0.]\n",
            "  [0. 0.]\n",
            "  [0. 0.]]]\n",
            "\n",
            "Array movido: \n",
            " shape:  (3, 2, 3) \n",
            "\n",
            " [[[0. 0. 0.]\n",
            "  [0. 0. 0.]]\n",
            "\n",
            " [[0. 0. 0.]\n",
            "  [0. 0. 0.]]\n",
            "\n",
            " [[0. 0. 0.]\n",
            "  [0. 0. 0.]]]\n"
          ]
        }
      ]
    },
    {
      "cell_type": "markdown",
      "source": [
        "##Interchange two axes of an array"
      ],
      "metadata": {
        "id": "SDf6qN-XRbjV"
      }
    },
    {
      "cell_type": "code",
      "source": [
        "array = np.array([[1,2,3],[4,5,6],[7,8,9],[10,11,12]])\n",
        "print(\"Array inicial: \\n\", array)\n",
        "\n",
        "array2 = np.swapaxes(array,0,1)\n",
        "print(\"\\nArray trocado: \\n\", array2)"
      ],
      "metadata": {
        "colab": {
          "base_uri": "https://localhost:8080/"
        },
        "id": "xOnkZp8jRd8d",
        "outputId": "5fc3e98e-067e-4ac5-a6be-cea320267cef"
      },
      "execution_count": null,
      "outputs": [
        {
          "output_type": "stream",
          "name": "stdout",
          "text": [
            "Array inicial: \n",
            " [[ 1  2  3]\n",
            " [ 4  5  6]\n",
            " [ 7  8  9]\n",
            " [10 11 12]]\n",
            "\n",
            "Array trocado: \n",
            " [[ 1  4  7 10]\n",
            " [ 2  5  8 11]\n",
            " [ 3  6  9 12]]\n"
          ]
        }
      ]
    },
    {
      "cell_type": "markdown",
      "source": [
        "##NumPy – Fibonacci Series using Binet Formula"
      ],
      "metadata": {
        "id": "6WzNyrL8SH_m"
      }
    },
    {
      "cell_type": "code",
      "source": [
        "array = np.arange(0, 11)\n",
        "print(\"Array inicial: \\n\", array)\n",
        "lenA = len(array)\n",
        "sqrtFive = np.sqrt(5)\n",
        "alpha = (1 + sqrtFive) / 2\n",
        "beta = (1 - sqrtFive) / 2\n",
        "fibn = np.rint(((alpha ** array) - (beta ** array)) / (sqrtFive))\n",
        "print(\"\\nArray Fibonacci: \\n\", fibn)"
      ],
      "metadata": {
        "colab": {
          "base_uri": "https://localhost:8080/"
        },
        "id": "HesdtmdUSRZ_",
        "outputId": "61dc96b5-c080-4b0b-acd0-99eb03c80dbc"
      },
      "execution_count": null,
      "outputs": [
        {
          "output_type": "stream",
          "name": "stdout",
          "text": [
            "Array inicial: \n",
            " [ 0  1  2  3  4  5  6  7  8  9 10]\n",
            "\n",
            "Array Fibonacci: \n",
            " [ 0.  1.  1.  2.  3.  5.  8. 13. 21. 34. 55.]\n"
          ]
        }
      ]
    },
    {
      "cell_type": "markdown",
      "source": [
        "##Counts the number of non-zero values in the array"
      ],
      "metadata": {
        "id": "ewcMiVFcUSAh"
      }
    },
    {
      "cell_type": "code",
      "source": [
        "array = np.random.randint(50, size=10)\n",
        "print(\"Array: \\n\", array)\n",
        "print(\"\\nNumero de não zeros: \", np.count_nonzero(array))"
      ],
      "metadata": {
        "colab": {
          "base_uri": "https://localhost:8080/"
        },
        "id": "Ji6fr1FiUUyu",
        "outputId": "5592e1ec-0ad8-4a7a-9fc6-187739b76d4a"
      },
      "execution_count": null,
      "outputs": [
        {
          "output_type": "stream",
          "name": "stdout",
          "text": [
            "Array: \n",
            " [14 41 15  4 31 40  9 35  5  2]\n",
            "\n",
            "Numero de não zeros:  10\n"
          ]
        }
      ]
    },
    {
      "cell_type": "markdown",
      "source": [
        "##Count the number of elements along a given axis"
      ],
      "metadata": {
        "id": "HkQ1dWD4UwnG"
      }
    },
    {
      "cell_type": "code",
      "source": [
        "array = np.array([[1, 2, 3, 4], [5, 6, 7, 8], [9, 10, 11, 12]])\n",
        "print(\"Array: \\n\", array)\n",
        "print(\"\\nQuantidade de elementos da linha 2: \", np.size(array[2]))"
      ],
      "metadata": {
        "colab": {
          "base_uri": "https://localhost:8080/"
        },
        "id": "2F8XbhdrU1mQ",
        "outputId": "10bfb8b6-c87b-456f-a6e8-e9a3b87c9bdc"
      },
      "execution_count": null,
      "outputs": [
        {
          "output_type": "stream",
          "name": "stdout",
          "text": [
            "Array: \n",
            " [[ 1  2  3  4]\n",
            " [ 5  6  7  8]\n",
            " [ 9 10 11 12]]\n",
            "\n",
            "Quantidade de elementos da linha 2:  4\n"
          ]
        }
      ]
    },
    {
      "cell_type": "markdown",
      "source": [
        "##Trim the leading and/or trailing zeros from a 1-D array\n"
      ],
      "metadata": {
        "id": "OO52Xp3bYNiH"
      }
    },
    {
      "cell_type": "code",
      "source": [
        "array = np.array([0, 0, 0, 0, 1, 1, 1, 1, 1, 1, 1, 1, 0, 0, 0, 0])\n",
        "print(\"Array inicial: \\n\", array)\n",
        "print(\"\\nArray trim: \\n\", np.trim_zeros(array))"
      ],
      "metadata": {
        "colab": {
          "base_uri": "https://localhost:8080/"
        },
        "id": "fl5PHJ-gYO3J",
        "outputId": "f954ba9e-cf0f-4002-8189-ba5577ddb069"
      },
      "execution_count": null,
      "outputs": [
        {
          "output_type": "stream",
          "name": "stdout",
          "text": [
            "Array inicial: \n",
            " [0 0 0 0 1 1 1 1 1 1 1 1 0 0 0 0]\n",
            "\n",
            "Array trim: \n",
            " [1 1 1 1 1 1 1 1]\n"
          ]
        }
      ]
    },
    {
      "cell_type": "markdown",
      "source": [
        "##Change data type of given numpy array"
      ],
      "metadata": {
        "id": "9LSYbXFjY6TP"
      }
    },
    {
      "cell_type": "code",
      "source": [
        "array = np.arange(0, 11)\n",
        "print(\"tipo inicial: \", array.dtype)\n",
        "array = array.astype('float64')\n",
        "print(array)\n",
        "print(\"\\ntipo final: \", array.dtype)"
      ],
      "metadata": {
        "colab": {
          "base_uri": "https://localhost:8080/"
        },
        "id": "mjAjxUl1Y7d4",
        "outputId": "4fcde0e7-1f43-4cf5-df31-23af726c5aa1"
      },
      "execution_count": null,
      "outputs": [
        {
          "output_type": "stream",
          "name": "stdout",
          "text": [
            "tipo inicial:  int64\n",
            "[ 0.  1.  2.  3.  4.  5.  6.  7.  8.  9. 10.]\n",
            "\n",
            "tipo final:  float64\n"
          ]
        }
      ]
    },
    {
      "cell_type": "markdown",
      "source": [
        "##Reverse a numpy array"
      ],
      "metadata": {
        "id": "WWi4sLpZZ1hC"
      }
    },
    {
      "cell_type": "code",
      "source": [
        "array = np.array([1,2,3,4,5,6])\n",
        "print(\"array inicial: \", array)\n",
        "print(\"\\narray reverse: \", np.flip(array))"
      ],
      "metadata": {
        "colab": {
          "base_uri": "https://localhost:8080/"
        },
        "id": "jtcUhe8yZ3-P",
        "outputId": "6931e5c8-5700-47b8-84fc-0fe43ee7cb12"
      },
      "execution_count": null,
      "outputs": [
        {
          "output_type": "stream",
          "name": "stdout",
          "text": [
            "array inicial:  [1 2 3 4 5 6]\n",
            "\n",
            "array reverse:  [6 5 4 3 2 1]\n"
          ]
        }
      ]
    },
    {
      "cell_type": "markdown",
      "source": [
        "##How to make a NumPy array read-only?"
      ],
      "metadata": {
        "id": "TGIDU6UOaba6"
      }
    },
    {
      "cell_type": "code",
      "source": [
        "array = np.array([1, 2, 3, 4, 5, 6, 7, 8, 9, 10])\n",
        "array[1] = 988\n",
        "array.flags.writeable = False\n",
        "#array[3] = 1000"
      ],
      "metadata": {
        "id": "hofJXSZ0aeCX"
      },
      "execution_count": null,
      "outputs": []
    },
    {
      "cell_type": "markdown",
      "source": [
        "#Questions on NumPy Matrix"
      ],
      "metadata": {
        "id": "3di262PRbKNf"
      }
    },
    {
      "cell_type": "markdown",
      "source": [
        "##Get the maximum value from given matrix"
      ],
      "metadata": {
        "id": "oNbA59vawdDZ"
      }
    },
    {
      "cell_type": "code",
      "source": [
        "matrix = np.random.randint(10,size=(3,3))\n",
        "print(\"Matrix: \\n\", matrix)\n",
        "print(\"\\nValor máximo da matriz: \", matrix.max())"
      ],
      "metadata": {
        "id": "03tZ3wbMbOdo",
        "colab": {
          "base_uri": "https://localhost:8080/"
        },
        "outputId": "be99e6e2-18f5-4a77-cce8-7441ee800ddb"
      },
      "execution_count": null,
      "outputs": [
        {
          "output_type": "stream",
          "name": "stdout",
          "text": [
            "Matrix: \n",
            " [[1 9 2]\n",
            " [8 7 5]\n",
            " [2 9 5]]\n",
            "\n",
            "Valor máximo da matriz:  9\n"
          ]
        }
      ]
    },
    {
      "cell_type": "markdown",
      "source": [
        "##Get the minimum value from given matrix"
      ],
      "metadata": {
        "id": "lG6hvdnXxk6A"
      }
    },
    {
      "cell_type": "code",
      "source": [
        "matrix = np.random.randint(10,size=(3,3))\n",
        "print(\"Matrix: \\n\", matrix)\n",
        "print(\"\\nValor mínimo da matriz: \", matrix.min())"
      ],
      "metadata": {
        "colab": {
          "base_uri": "https://localhost:8080/"
        },
        "id": "2kL7-f-oxoG3",
        "outputId": "bb1f43f7-9705-4f40-c784-c63c23c9a1fb"
      },
      "execution_count": null,
      "outputs": [
        {
          "output_type": "stream",
          "name": "stdout",
          "text": [
            "Matrix: \n",
            " [[8 9 1]\n",
            " [6 7 1]\n",
            " [2 9 6]]\n",
            "\n",
            "Valor mínimo da matriz:  1\n"
          ]
        }
      ]
    },
    {
      "cell_type": "markdown",
      "source": [
        "##Find the number of rows and columns of a given matrix using NumPy"
      ],
      "metadata": {
        "id": "nJsBDSSeyMfh"
      }
    },
    {
      "cell_type": "code",
      "source": [
        "matrix = np.matrix([[1,2],[3,4],[5,6]])\n",
        "print(\"matriz de exemplo: \\n\", matrix)\n",
        "print(\"\\nNumero de linhas e colunas respectivamente: \", matrix.shape)"
      ],
      "metadata": {
        "colab": {
          "base_uri": "https://localhost:8080/"
        },
        "id": "ozNXOCPxyPgH",
        "outputId": "3c779d35-06ee-4bbe-d83a-faaf0a46da8f"
      },
      "execution_count": null,
      "outputs": [
        {
          "output_type": "stream",
          "name": "stdout",
          "text": [
            "matriz de exemplo: \n",
            " [[1 2]\n",
            " [3 4]\n",
            " [5 6]]\n",
            "\n",
            "Numero de linhas e colunas respectivamente:  (3, 2)\n"
          ]
        }
      ]
    },
    {
      "cell_type": "markdown",
      "source": [
        "##Select the elements from a given matrix"
      ],
      "metadata": {
        "id": "JHfDdGemzJ4_"
      }
    },
    {
      "cell_type": "code",
      "source": [
        "matrix = np.matrix([[1,2],[3,4],[5,6]])\n",
        "print(\"matriz de exemplo: \\n\", matrix)\n",
        "print(\"\\nAcessando a posição linha 1 coluna 1: \", matrix[1,1])"
      ],
      "metadata": {
        "colab": {
          "base_uri": "https://localhost:8080/"
        },
        "id": "f0h4WeH2zM7Z",
        "outputId": "91b3fd3e-f1f2-4cc3-ae5c-622c42c99c25"
      },
      "execution_count": null,
      "outputs": [
        {
          "output_type": "stream",
          "name": "stdout",
          "text": [
            "matriz de exemplo: \n",
            " [[1 2]\n",
            " [3 4]\n",
            " [5 6]]\n",
            "\n",
            "Acessando a posição linha 1 coluna 1:  4\n"
          ]
        }
      ]
    },
    {
      "cell_type": "markdown",
      "source": [
        "##Find the sum of values in a matrix"
      ],
      "metadata": {
        "id": "dJT28I3J1-M2"
      }
    },
    {
      "cell_type": "code",
      "source": [
        "matrix = np.matrix([[1,2],[3,4],[5,6]])\n",
        "print(\"matriz de exemplo: \\n\", matrix)\n",
        "print(\"\\nSoma dos valores da matriz: \", np.sum(matrix))"
      ],
      "metadata": {
        "colab": {
          "base_uri": "https://localhost:8080/"
        },
        "id": "WdBLvWAI1_Tc",
        "outputId": "3d793e32-7cda-4614-e98d-65aacc6ff81f"
      },
      "execution_count": null,
      "outputs": [
        {
          "output_type": "stream",
          "name": "stdout",
          "text": [
            "matriz de exemplo: \n",
            " [[1 2]\n",
            " [3 4]\n",
            " [5 6]]\n",
            "\n",
            "Soma dos valores da matriz:  21\n"
          ]
        }
      ]
    },
    {
      "cell_type": "markdown",
      "source": [
        "##Calculate the sum of the diagonal elements of a NumPy array"
      ],
      "metadata": {
        "id": "6EbVYShq2yd7"
      }
    },
    {
      "cell_type": "code",
      "source": [
        "matrix = np.matrix([[1,2,3],[4,5,6],[7,8,9]])\n",
        "print(\"matriz de exemplo: \\n\", matrix)\n",
        "print(\"\\nSoma dos valores da diagonal da matriz: \", np.trace(matrix))"
      ],
      "metadata": {
        "colab": {
          "base_uri": "https://localhost:8080/"
        },
        "id": "UihG9G9a23qd",
        "outputId": "3d9d0ffa-11e4-4f4f-e2a5-3e68ad12b76d"
      },
      "execution_count": null,
      "outputs": [
        {
          "output_type": "stream",
          "name": "stdout",
          "text": [
            "matriz de exemplo: \n",
            " [[1 2 3]\n",
            " [4 5 6]\n",
            " [7 8 9]]\n",
            "\n",
            "Soma dos valores da diagonal da matriz:  15\n"
          ]
        }
      ]
    },
    {
      "cell_type": "markdown",
      "source": [
        "##Adding and Subtracting Matrices in Python"
      ],
      "metadata": {
        "id": "rjryfBQ83g4q"
      }
    },
    {
      "cell_type": "code",
      "source": [
        "matrix1 = np.matrix([[1,2,3],[4,5,6],[7,8,9]])\n",
        "matrix2 = np.matrix([[10,11,12],[13,14,15],[16,17,18]])\n",
        "print(\"matriz1 de exemplo: \\n\", matrix1)\n",
        "print(\"\\nmatriz2 de exemplo: \\n\", matrix2)\n",
        "\n",
        "print(\"\\nSoma de matrizes -> matriz1 + matriz2:\")\n",
        "print(np.add(matrix1, matrix2))\n",
        "\n",
        "print(\"\\nSubtração de matrizes -> matriz2 - matriz1:\")\n",
        "print(np.subtract(matrix2, matrix1))"
      ],
      "metadata": {
        "colab": {
          "base_uri": "https://localhost:8080/"
        },
        "id": "4Jyciwld3u53",
        "outputId": "cda76ad8-ecd6-468e-b46a-a18dbec648aa"
      },
      "execution_count": null,
      "outputs": [
        {
          "output_type": "stream",
          "name": "stdout",
          "text": [
            "matriz1 de exemplo: \n",
            " [[1 2 3]\n",
            " [4 5 6]\n",
            " [7 8 9]]\n",
            "\n",
            "matriz2 de exemplo: \n",
            " [[10 11 12]\n",
            " [13 14 15]\n",
            " [16 17 18]]\n",
            "\n",
            "Soma de matrizes -> matriz1 + matriz2:\n",
            "[[11 13 15]\n",
            " [17 19 21]\n",
            " [23 25 27]]\n",
            "\n",
            "Subtração de matrizes -> matriz2 - matriz1:\n",
            "[[9 9 9]\n",
            " [9 9 9]\n",
            " [9 9 9]]\n"
          ]
        }
      ]
    },
    {
      "cell_type": "markdown",
      "source": [
        "##Ways to add row/columns in numpy array"
      ],
      "metadata": {
        "id": "6lGutd5P6JA_"
      }
    },
    {
      "cell_type": "code",
      "source": [
        "matrix = np.matrix([[1,2,3],[4,5,6],[7,8,9]])\n",
        "print(\"matriz de inicial de exemplo: \\n\", matrix)\n",
        "\n",
        "elemento = np.array([[0, 0, 0]])\n",
        "print(\"\\nElemento a ser adicionado: \\n\", elemento)\n",
        "\n",
        "print(\"\\nAdicionando em linha: \\n\", np.vstack((matrix, elemento)))\n",
        "print(\"\\nAdicionando em coluna: \\n\", np.hstack((matrix, elemento.T)))"
      ],
      "metadata": {
        "colab": {
          "base_uri": "https://localhost:8080/"
        },
        "id": "WYfbu5xc6UqX",
        "outputId": "3a1a4495-090c-4358-bc14-2146da5bf602"
      },
      "execution_count": null,
      "outputs": [
        {
          "output_type": "stream",
          "name": "stdout",
          "text": [
            "matriz de inicial de exemplo: \n",
            " [[1 2 3]\n",
            " [4 5 6]\n",
            " [7 8 9]]\n",
            "\n",
            "Elemento a ser adicionado: \n",
            " [[0 0 0]]\n",
            "\n",
            "Adicionando em linha: \n",
            " [[1 2 3]\n",
            " [4 5 6]\n",
            " [7 8 9]\n",
            " [0 0 0]]\n",
            "\n",
            "Adicionando em coluna: \n",
            " [[1 2 3 0]\n",
            " [4 5 6 0]\n",
            " [7 8 9 0]]\n"
          ]
        }
      ]
    },
    {
      "cell_type": "markdown",
      "source": [
        "##Matrix Multiplication in NumPy"
      ],
      "metadata": {
        "id": "uRIlJ5E89zuU"
      }
    },
    {
      "cell_type": "code",
      "source": [
        "matrix1 = np.matrix([[1,2,3],[4,5,6],[7,8,9]])\n",
        "matrix2 = np.matrix([[3,3,3],[3,3,3],[3,3,3]])\n",
        "print(\"matriz1 de exemplo: \\n\", matrix1)\n",
        "print(\"\\nmatriz2 de exemplo: \\n\", matrix2)\n",
        "\n",
        "print(\"\\nMultiplicação das matrizes matriz1 * matriz2: \\n\", np.dot(matrix1, matrix2))"
      ],
      "metadata": {
        "colab": {
          "base_uri": "https://localhost:8080/"
        },
        "id": "T5t38q7Y9489",
        "outputId": "4714bfb7-2ce1-4fbc-c730-c681b39610df"
      },
      "execution_count": null,
      "outputs": [
        {
          "output_type": "stream",
          "name": "stdout",
          "text": [
            "matriz1 de exemplo: \n",
            " [[1 2 3]\n",
            " [4 5 6]\n",
            " [7 8 9]]\n",
            "\n",
            "matriz2 de exemplo: \n",
            " [[3 3 3]\n",
            " [3 3 3]\n",
            " [3 3 3]]\n",
            "\n",
            "Multiplicação das matrizes matriz1 * matriz2: \n",
            " [[18 18 18]\n",
            " [45 45 45]\n",
            " [72 72 72]]\n"
          ]
        }
      ]
    },
    {
      "cell_type": "markdown",
      "source": [
        "##Get the eigen values of a matrix"
      ],
      "metadata": {
        "id": "ZMa3zXnY_OC6"
      }
    },
    {
      "cell_type": "code",
      "source": [
        "matrix = np.matrix([[1,2,3],[4,5,6],[7,8,9]])\n",
        "print(\"matriz de exemplo: \\n\", matrix)\n",
        "print(\"\\nResultado: \\n\", np.linalg.eig(matrix))"
      ],
      "metadata": {
        "colab": {
          "base_uri": "https://localhost:8080/"
        },
        "id": "GDJeqRoM_ZyE",
        "outputId": "e131b3ca-49c6-4878-a233-c8f35ac99db7"
      },
      "execution_count": null,
      "outputs": [
        {
          "output_type": "stream",
          "name": "stdout",
          "text": [
            "matriz de exemplo: \n",
            " [[1 2 3]\n",
            " [4 5 6]\n",
            " [7 8 9]]\n",
            "\n",
            "Resultado: \n",
            " (array([ 1.61168440e+01, -1.11684397e+00, -1.30367773e-15]), matrix([[-0.23197069, -0.78583024,  0.40824829],\n",
            "        [-0.52532209, -0.08675134, -0.81649658],\n",
            "        [-0.8186735 ,  0.61232756,  0.40824829]]))\n"
          ]
        }
      ]
    },
    {
      "cell_type": "markdown",
      "source": [
        "##How to Calculate the determinant of a matrix using NumPy?"
      ],
      "metadata": {
        "id": "NFQsfyhfAb3p"
      }
    },
    {
      "cell_type": "code",
      "source": [
        "matrix = np.matrix([[1,0,5],[4,3,2],[1,1,1]])\n",
        "print(\"matriz de exemplo: \\n\", matrix)\n",
        "print(\"\\nDeterminante: \\n\", np.linalg.det(matrix))"
      ],
      "metadata": {
        "colab": {
          "base_uri": "https://localhost:8080/"
        },
        "id": "Q28mdzx2AeVy",
        "outputId": "34cf41e8-7bd4-4da9-faed-1a67547c0f5c"
      },
      "execution_count": null,
      "outputs": [
        {
          "output_type": "stream",
          "name": "stdout",
          "text": [
            "matriz de exemplo: \n",
            " [[1 0 5]\n",
            " [4 3 2]\n",
            " [1 1 1]]\n",
            "\n",
            "Determinante: \n",
            " 6.0\n"
          ]
        }
      ]
    },
    {
      "cell_type": "markdown",
      "source": [
        "##How to inverse a matrix using NumPy"
      ],
      "metadata": {
        "id": "DxnaiRZWBTsh"
      }
    },
    {
      "cell_type": "code",
      "source": [
        "matrix = np.matrix([[1,0,5],[4,3,2],[1,1,1]])\n",
        "print(\"matriz de exemplo: \\n\", matrix)\n",
        "print(\"\\nInverse: \\n\", np.linalg.inv(matrix))"
      ],
      "metadata": {
        "colab": {
          "base_uri": "https://localhost:8080/"
        },
        "id": "8MegkpSOBWSx",
        "outputId": "45565aab-9b09-43a6-a6f0-b721f3091b30"
      },
      "execution_count": null,
      "outputs": [
        {
          "output_type": "stream",
          "name": "stdout",
          "text": [
            "matriz de exemplo: \n",
            " [[1 0 5]\n",
            " [4 3 2]\n",
            " [1 1 1]]\n",
            "\n",
            "Inverse: \n",
            " [[ 0.16666667  0.83333333 -2.5       ]\n",
            " [-0.33333333 -0.66666667  3.        ]\n",
            " [ 0.16666667 -0.16666667  0.5       ]]\n"
          ]
        }
      ]
    },
    {
      "cell_type": "markdown",
      "source": [
        "##How to count the frequency of unique values in NumPy array?"
      ],
      "metadata": {
        "id": "64UXB1ZODvSm"
      }
    },
    {
      "cell_type": "code",
      "source": [
        "matrix = np.matrix([[1,0,5],[4,3,2],[1,2,1]])\n",
        "print(\"matriz de exemplo: \\n\", matrix)\n",
        "\n",
        "print(\"\\nFrequencia: as posições do array (0, 1, 2, 3, 4, 5) indicam a quantidades de elementos valor/posição\\n\", np.bincount(np.ravel(matrix)))"
      ],
      "metadata": {
        "colab": {
          "base_uri": "https://localhost:8080/"
        },
        "id": "E5lcSV66FXU6",
        "outputId": "25cb26f6-66d9-463d-f2df-702f2a231e56"
      },
      "execution_count": null,
      "outputs": [
        {
          "output_type": "stream",
          "name": "stdout",
          "text": [
            "matriz de exemplo: \n",
            " [[1 0 5]\n",
            " [4 3 2]\n",
            " [1 2 1]]\n",
            "\n",
            "Frequencia: as posições do array (0, 1, 2, 3, 4, 5) indicam a quantidades de elementos valor/posição\n",
            " [1 3 2 1 1 1]\n"
          ]
        }
      ]
    },
    {
      "cell_type": "markdown",
      "source": [
        "##Multiply matrices of complex numbers using NumPy in Python"
      ],
      "metadata": {
        "id": "f9m4lf5tHxeE"
      }
    },
    {
      "cell_type": "code",
      "source": [
        "matrix1 = np.matrix([[1,2,3],[4,5,6],[7,8,9]])\n",
        "print(\"matriz1 de exemplo: \\n\", matrix1)\n",
        "matrix2 = np.matrix([[10,11,12],[13,14,15],[16,17,18]])\n",
        "print(\"\\nmatriz2 de exemplo: \\n\", matrix2)\n",
        "matrix1 = matrix1.astype(np.complex128)\n",
        "matrix2 = matrix2.astype(np.complex128)\n",
        "\n",
        "print(\"\\nMultiplicação das matrizes matriz1 * matriz2: \\n\", np.dot(matrix1, matrix2))"
      ],
      "metadata": {
        "colab": {
          "base_uri": "https://localhost:8080/"
        },
        "id": "rzazBlFjH0H1",
        "outputId": "14fbd18b-4c23-4d1a-c40d-d07f9d30d67b"
      },
      "execution_count": null,
      "outputs": [
        {
          "output_type": "stream",
          "name": "stdout",
          "text": [
            "matriz1 de exemplo: \n",
            " [[1 2 3]\n",
            " [4 5 6]\n",
            " [7 8 9]]\n",
            "\n",
            "matriz2 de exemplo: \n",
            " [[10 11 12]\n",
            " [13 14 15]\n",
            " [16 17 18]]\n",
            "\n",
            "Multiplicação das matrizes matriz1 * matriz2: \n",
            " [[ 84.+0.j  90.+0.j  96.+0.j]\n",
            " [201.+0.j 216.+0.j 231.+0.j]\n",
            " [318.+0.j 342.+0.j 366.+0.j]]\n"
          ]
        }
      ]
    },
    {
      "cell_type": "markdown",
      "source": [
        "##Compute the outer product of two given vectors using NumPy in Python"
      ],
      "metadata": {
        "id": "IW3WwzVSJUQs"
      }
    },
    {
      "cell_type": "code",
      "source": [
        "matrix1 = np.matrix([[1,2,3],[4,5,6],[7,8,9]])\n",
        "print(\"matriz1 de exemplo: \\n\", matrix1)\n",
        "matrix2 = np.matrix([[10,11,12],[13,14,15],[16,17,18]])\n",
        "print(\"\\nmatriz2 de exemplo: \\n\", matrix2)\n",
        "print(\"\\nResultado: \\n\", np.outer(matrix1, matrix2))"
      ],
      "metadata": {
        "colab": {
          "base_uri": "https://localhost:8080/"
        },
        "id": "z_t6O1AFJY6-",
        "outputId": "3cd2797a-0dc1-484e-936d-7e19b8b4224b"
      },
      "execution_count": null,
      "outputs": [
        {
          "output_type": "stream",
          "name": "stdout",
          "text": [
            "matriz1 de exemplo: \n",
            " [[1 2 3]\n",
            " [4 5 6]\n",
            " [7 8 9]]\n",
            "\n",
            "matriz2 de exemplo: \n",
            " [[10 11 12]\n",
            " [13 14 15]\n",
            " [16 17 18]]\n",
            "\n",
            "Resultado: \n",
            " [[ 10  11  12  13  14  15  16  17  18]\n",
            " [ 20  22  24  26  28  30  32  34  36]\n",
            " [ 30  33  36  39  42  45  48  51  54]\n",
            " [ 40  44  48  52  56  60  64  68  72]\n",
            " [ 50  55  60  65  70  75  80  85  90]\n",
            " [ 60  66  72  78  84  90  96 102 108]\n",
            " [ 70  77  84  91  98 105 112 119 126]\n",
            " [ 80  88  96 104 112 120 128 136 144]\n",
            " [ 90  99 108 117 126 135 144 153 162]]\n"
          ]
        }
      ]
    },
    {
      "cell_type": "markdown",
      "source": [
        "##Calculate inner, outer, and cross products of matrices and vectors using NumPy"
      ],
      "metadata": {
        "id": "BxPobINSKHW7"
      }
    },
    {
      "cell_type": "code",
      "source": [
        "print(\"DADOS:\\n\")\n",
        "matrix1 = np.matrix([[1,2,3],[4,5,6],[7,8,9]])\n",
        "print(\"matriz1 de exemplo: \\n\", matrix1)\n",
        "matrix2 = np.matrix([[10,11,12],[13,14,15],[16,17,18]])\n",
        "print(\"\\nmatriz2 de exemplo: \\n\", matrix2)\n",
        "\n",
        "array1 = np.array([[1,2,3],[4,5,6]])\n",
        "print(\"\\narray1 de exemplo: \\n\", array1)\n",
        "array2 = np.array([[7,8,9],[10,11,12]])\n",
        "print(\"\\narray2 de exemplo: \\n\", array2)\n",
        "print(\"-----------------------------------\\nResultados:\\n\")\n",
        "\n",
        "print(\"Inner:\\n\")\n",
        "print(\"Inner product of arrays, array1 and array2\\n\", np.inner(array1,array2))\n",
        "print(\"\\nInner product of matrices, matrix1 and matrix2\\n\", np.inner(matrix1,matrix2))\n",
        "print(\"\\nOuter:\\n\")\n",
        "print(\"Outer product of arrays, array1 and array2\\n\", np.outer(array1,array2))\n",
        "print(\"\\nOuter product of matrices, matrix1 and matrix2\\n\", np.outer(matrix1,matrix2))\n",
        "print(\"\\nCross:\\n\")\n",
        "print(\"Cross product of arrays, array1 and array2\\n\", np.cross(array1,array2))\n",
        "print(\"\\nCross product of matrices, matrix1 and matrix2\\n\", np.cross(matrix1,matrix2))"
      ],
      "metadata": {
        "colab": {
          "base_uri": "https://localhost:8080/"
        },
        "id": "vAN2sZXDKKBz",
        "outputId": "54add8ac-dfbe-4c09-b971-1200e99a8d2d"
      },
      "execution_count": null,
      "outputs": [
        {
          "output_type": "stream",
          "name": "stdout",
          "text": [
            "DADOS:\n",
            "\n",
            "matriz1 de exemplo: \n",
            " [[1 2 3]\n",
            " [4 5 6]\n",
            " [7 8 9]]\n",
            "\n",
            "matriz2 de exemplo: \n",
            " [[10 11 12]\n",
            " [13 14 15]\n",
            " [16 17 18]]\n",
            "\n",
            "array1 de exemplo: \n",
            " [[1 2 3]\n",
            " [4 5 6]]\n",
            "\n",
            "array2 de exemplo: \n",
            " [[ 7  8  9]\n",
            " [10 11 12]]\n",
            "-----------------------------------\n",
            "Resultados:\n",
            "\n",
            "Inner:\n",
            "\n",
            "Inner product of arrays, array1 and array2\n",
            " [[ 50  68]\n",
            " [122 167]]\n",
            "\n",
            "Inner product of matrices, matrix1 and matrix2\n",
            " [[ 68  86 104]\n",
            " [167 212 257]\n",
            " [266 338 410]]\n",
            "\n",
            "Outer:\n",
            "\n",
            "Outer product of arrays, array1 and array2\n",
            " [[ 7  8  9 10 11 12]\n",
            " [14 16 18 20 22 24]\n",
            " [21 24 27 30 33 36]\n",
            " [28 32 36 40 44 48]\n",
            " [35 40 45 50 55 60]\n",
            " [42 48 54 60 66 72]]\n",
            "\n",
            "Outer product of matrices, matrix1 and matrix2\n",
            " [[ 10  11  12  13  14  15  16  17  18]\n",
            " [ 20  22  24  26  28  30  32  34  36]\n",
            " [ 30  33  36  39  42  45  48  51  54]\n",
            " [ 40  44  48  52  56  60  64  68  72]\n",
            " [ 50  55  60  65  70  75  80  85  90]\n",
            " [ 60  66  72  78  84  90  96 102 108]\n",
            " [ 70  77  84  91  98 105 112 119 126]\n",
            " [ 80  88  96 104 112 120 128 136 144]\n",
            " [ 90  99 108 117 126 135 144 153 162]]\n",
            "\n",
            "Cross:\n",
            "\n",
            "Cross product of arrays, array1 and array2\n",
            " [[-6 12 -6]\n",
            " [-6 12 -6]]\n",
            "\n",
            "Cross product of matrices, matrix1 and matrix2\n",
            " [[-9 18 -9]\n",
            " [-9 18 -9]\n",
            " [-9 18 -9]]\n"
          ]
        }
      ]
    },
    {
      "cell_type": "markdown",
      "source": [
        "##Compute the covariance matrix of two given NumPy arrays"
      ],
      "metadata": {
        "id": "jvxCiDALN7bI"
      }
    },
    {
      "cell_type": "code",
      "source": [
        "matrix1 = np.array([[1,2,3],[4,5,6],[7,8,9]])\n",
        "print(\"matriz1 de exemplo: \\n\", matrix1)\n",
        "matrix2 = np.array([[10,11,12],[13,14,15],[16,17,18]])\n",
        "print(\"\\nmatriz2 de exemplo: \\n\", matrix2)\n",
        "cov = np.cov(matrix1, matrix2)\n",
        "print(\"\\nMatriz de covariancia: \\n\", cov)"
      ],
      "metadata": {
        "colab": {
          "base_uri": "https://localhost:8080/"
        },
        "id": "okWnh374N_BV",
        "outputId": "4eaee905-bd47-4939-92ac-42bdf83e38b3"
      },
      "execution_count": null,
      "outputs": [
        {
          "output_type": "stream",
          "name": "stdout",
          "text": [
            "matriz1 de exemplo: \n",
            " [[1 2 3]\n",
            " [4 5 6]\n",
            " [7 8 9]]\n",
            "\n",
            "matriz2 de exemplo: \n",
            " [[10 11 12]\n",
            " [13 14 15]\n",
            " [16 17 18]]\n",
            "\n",
            "Matriz de covariancia: \n",
            " [[1. 1. 1. 1. 1. 1.]\n",
            " [1. 1. 1. 1. 1. 1.]\n",
            " [1. 1. 1. 1. 1. 1.]\n",
            " [1. 1. 1. 1. 1. 1.]\n",
            " [1. 1. 1. 1. 1. 1.]\n",
            " [1. 1. 1. 1. 1. 1.]]\n"
          ]
        }
      ]
    },
    {
      "cell_type": "markdown",
      "source": [
        "##Convert covariance matrix to correlation matrix using Python"
      ],
      "metadata": {
        "id": "bw1YOZawPO5c"
      }
    },
    {
      "cell_type": "code",
      "source": [
        "print(\"Resultado usando dados da questão anterior: \\n\", np.corrcoef(cov))"
      ],
      "metadata": {
        "colab": {
          "base_uri": "https://localhost:8080/"
        },
        "id": "FkfjTTd9PRh9",
        "outputId": "25f673c0-a651-4b06-8359-4772e8613256"
      },
      "execution_count": null,
      "outputs": [
        {
          "output_type": "stream",
          "name": "stdout",
          "text": [
            "Resultado usando dados da questão anterior: \n",
            " [[nan nan nan nan nan nan]\n",
            " [nan nan nan nan nan nan]\n",
            " [nan nan nan nan nan nan]\n",
            " [nan nan nan nan nan nan]\n",
            " [nan nan nan nan nan nan]\n",
            " [nan nan nan nan nan nan]]\n"
          ]
        }
      ]
    },
    {
      "cell_type": "markdown",
      "source": [
        "##Compute the Kronecker product of two mulitdimension NumPy arrays"
      ],
      "metadata": {
        "id": "9hc43D45P98T"
      }
    },
    {
      "cell_type": "code",
      "source": [
        "matrix1 = np.matrix([[1,2,3],[4,5,6],[7,8,9]])\n",
        "print(\"matriz1 de exemplo: \\n\", matrix1)\n",
        "matrix2 = np.matrix([[10,11,12],[13,14,15],[16,17,18]])\n",
        "print(\"\\nmatriz2 de exemplo: \\n\", matrix2)\n",
        "print(\"\\nResultado: \\n\", np.kron(matrix1,matrix2))"
      ],
      "metadata": {
        "colab": {
          "base_uri": "https://localhost:8080/"
        },
        "id": "tbwRzgioP_qY",
        "outputId": "b7ce491a-01df-4c45-9e7b-dc8e2cf01c59"
      },
      "execution_count": null,
      "outputs": [
        {
          "output_type": "stream",
          "name": "stdout",
          "text": [
            "matriz1 de exemplo: \n",
            " [[1 2 3]\n",
            " [4 5 6]\n",
            " [7 8 9]]\n",
            "\n",
            "matriz2 de exemplo: \n",
            " [[10 11 12]\n",
            " [13 14 15]\n",
            " [16 17 18]]\n",
            "\n",
            "Resultado: \n",
            " [[ 10  11  12  20  22  24  30  33  36]\n",
            " [ 13  14  15  26  28  30  39  42  45]\n",
            " [ 16  17  18  32  34  36  48  51  54]\n",
            " [ 40  44  48  50  55  60  60  66  72]\n",
            " [ 52  56  60  65  70  75  78  84  90]\n",
            " [ 64  68  72  80  85  90  96 102 108]\n",
            " [ 70  77  84  80  88  96  90  99 108]\n",
            " [ 91  98 105 104 112 120 117 126 135]\n",
            " [112 119 126 128 136 144 144 153 162]]\n"
          ]
        }
      ]
    },
    {
      "cell_type": "markdown",
      "source": [
        "##Convert the matrix into a list"
      ],
      "metadata": {
        "id": "OZPSPltBR1Ui"
      }
    },
    {
      "cell_type": "code",
      "source": [
        "matrix = np.matrix([[1,2,3],[4,5,6],[7,8,9]])\n",
        "print(\"matriz de exemplo: \\n\", matrix)\n",
        "print(\"\\nApós conversão em lista: \\n\", matrix.tolist())"
      ],
      "metadata": {
        "colab": {
          "base_uri": "https://localhost:8080/"
        },
        "id": "IGKbcc6CSCc6",
        "outputId": "25f84fda-ed90-46bf-b04d-c294288666ed"
      },
      "execution_count": null,
      "outputs": [
        {
          "output_type": "stream",
          "name": "stdout",
          "text": [
            "matriz de exemplo: \n",
            " [[1 2 3]\n",
            " [4 5 6]\n",
            " [7 8 9]]\n",
            "\n",
            "Após conversão em lista: \n",
            " [[1, 2, 3], [4, 5, 6], [7, 8, 9]]\n"
          ]
        }
      ]
    },
    {
      "cell_type": "markdown",
      "source": [
        "#Questions on NumPy Indexing"
      ],
      "metadata": {
        "id": "3YLi8g6sSlH0"
      }
    },
    {
      "cell_type": "markdown",
      "source": [
        "##Replace NumPy array elements that doesn’t satisfy the given condition"
      ],
      "metadata": {
        "id": "AWhr4MoQ8EmB"
      }
    },
    {
      "cell_type": "code",
      "source": [
        "array = np.array([1, 24, 83, 33, 26, 65, 51, 4, 9, 75])\n",
        "print(\"array de exemplo: \\n\", array)\n",
        "array[array<40] = 1\n",
        "array[array>40]= 10\n",
        "print(\"\\nApós substituição dos elementos, dadas as condições: \\n\", array)"
      ],
      "metadata": {
        "colab": {
          "base_uri": "https://localhost:8080/"
        },
        "id": "1AL78TaI8GiO",
        "outputId": "688138c5-d7d7-4c36-e682-6d23a13d29c8"
      },
      "execution_count": null,
      "outputs": [
        {
          "output_type": "stream",
          "name": "stdout",
          "text": [
            "array de exemplo: \n",
            " [ 1 24 83 33 26 65 51  4  9 75]\n",
            "\n",
            "Após substituição dos elementos, dadas as condições: \n",
            " [ 1  1 10  1  1 10 10  1  1 10]\n"
          ]
        }
      ]
    },
    {
      "cell_type": "markdown",
      "source": [
        "##Return the indices of elements where the given condition is satisfied"
      ],
      "metadata": {
        "id": "guXnGMAu_B28"
      }
    },
    {
      "cell_type": "code",
      "source": [
        "array = np.array([1, 24, 83, 33, 26, 65, 51, 4, 9, 75])\n",
        "print(\"array de exemplo: \\n\", array)\n",
        "print(\"\\nIndices das posições maiores que 40: \\n\", np.where(array > 40))"
      ],
      "metadata": {
        "colab": {
          "base_uri": "https://localhost:8080/"
        },
        "id": "LXsl5P1JAmyn",
        "outputId": "9219f80a-d8a4-4a94-bac4-69f39cea6d56"
      },
      "execution_count": null,
      "outputs": [
        {
          "output_type": "stream",
          "name": "stdout",
          "text": [
            "array de exemplo: \n",
            " [ 1 24 83 33 26 65 51  4  9 75]\n",
            "\n",
            "Indices das posições maiores que 40: \n",
            " (array([2, 5, 6, 9]),)\n"
          ]
        }
      ]
    },
    {
      "cell_type": "markdown",
      "source": [],
      "metadata": {
        "id": "u35WgvZQ-VGN"
      }
    },
    {
      "cell_type": "markdown",
      "source": [
        "##Replace NaN values with average of columns"
      ],
      "metadata": {
        "id": "pNRWu4uqBUnr"
      }
    },
    {
      "cell_type": "code",
      "source": [
        "array = np.array([[1, 2, np.nan], [2, 3, 5], [np.nan, 6, 9]])\n",
        "print(\"array de exemplo: \\n\", array)\n",
        "col_mean = np.nanmean(array,axis=0)\n",
        "inds = np.where(np.isnan(array))\n",
        "array[inds] = np.take(col_mean,inds[1])\n",
        "print(\"\\nApós substituir os valores NaN pela média das colunas: \\n\", array)"
      ],
      "metadata": {
        "colab": {
          "base_uri": "https://localhost:8080/"
        },
        "id": "AhGnbVyeBiNS",
        "outputId": "68aff5fa-0adf-4b7b-a5b1-2d3d1ef55fc4"
      },
      "execution_count": null,
      "outputs": [
        {
          "output_type": "stream",
          "name": "stdout",
          "text": [
            "array de exemplo: \n",
            " [[ 1.  2. nan]\n",
            " [ 2.  3.  5.]\n",
            " [nan  6.  9.]]\n",
            "\n",
            "Após substituir os valores NaN pela média das colunas: \n",
            " [[1.  2.  7. ]\n",
            " [2.  3.  5. ]\n",
            " [1.5 6.  9. ]]\n"
          ]
        }
      ]
    },
    {
      "cell_type": "markdown",
      "source": [
        "##Replace negative value with zero in numpy array"
      ],
      "metadata": {
        "id": "mszomAR6Deaa"
      }
    },
    {
      "cell_type": "code",
      "source": [
        "array = np.array([-1, 2, -3, 4, -5, 6, -7, 8, -9, 10])\n",
        "print(\"array de exemplo: \\n\", array)\n",
        "array[array<0]=0\n",
        "print(\"\\nApós substituir os valores negativos por zero: \\n\", array)"
      ],
      "metadata": {
        "colab": {
          "base_uri": "https://localhost:8080/"
        },
        "id": "k9vs3h4ADcny",
        "outputId": "da6a66fd-8c54-47d1-f066-0273f9878e0f"
      },
      "execution_count": null,
      "outputs": [
        {
          "output_type": "stream",
          "name": "stdout",
          "text": [
            "array de exemplo: \n",
            " [-1  2 -3  4 -5  6 -7  8 -9 10]\n",
            "\n",
            "Após substituir os valores negativos por zero: \n",
            " [ 0  2  0  4  0  6  0  8  0 10]\n"
          ]
        }
      ]
    },
    {
      "cell_type": "markdown",
      "source": [
        "##How to get values of an NumPy array at certain index positions?"
      ],
      "metadata": {
        "id": "aKbSi53sD8oA"
      }
    },
    {
      "cell_type": "code",
      "source": [
        "array = np.array([[1, 2, 3], [4, 5, 6], [7, 8, 9]])\n",
        "print(\"array de exemplo: \\n\", array)\n",
        "print(\"\\nAcessando a posição [1,2]: \\n\", array[1,2])"
      ],
      "metadata": {
        "colab": {
          "base_uri": "https://localhost:8080/"
        },
        "id": "HcS5cG0QEv9w",
        "outputId": "d71bdbc8-d63d-4ffb-86ae-88d548a88de9"
      },
      "execution_count": null,
      "outputs": [
        {
          "output_type": "stream",
          "name": "stdout",
          "text": [
            "array de exemplo: \n",
            " [[1 2 3]\n",
            " [4 5 6]\n",
            " [7 8 9]]\n",
            "\n",
            "Acessando a posição [1,2]: \n",
            " 6\n"
          ]
        }
      ]
    },
    {
      "cell_type": "markdown",
      "source": [
        "##Find indices of elements equal to zero in a NumPy array"
      ],
      "metadata": {
        "id": "Yg-KFJY8GTZw"
      }
    },
    {
      "cell_type": "code",
      "source": [
        "array = np.array([0, 0, 1, 8, 0, 7, 0, 9, 14, 0])\n",
        "print(\"array de exemplo: \\n\", array)\n",
        "print(\"\\nEncontrando os indices iguais a zero: \\n\", np.where(array==0)[0])"
      ],
      "metadata": {
        "colab": {
          "base_uri": "https://localhost:8080/"
        },
        "id": "AMJ_Y5LGGUcI",
        "outputId": "52ca981d-8ecd-4a8c-deaa-04a79f5e034d"
      },
      "execution_count": null,
      "outputs": [
        {
          "output_type": "stream",
          "name": "stdout",
          "text": [
            "array de exemplo: \n",
            " [ 0  0  1  8  0  7  0  9 14  0]\n",
            "\n",
            "Encontrando os indices iguais a zero: \n",
            " [0 1 4 6 9]\n"
          ]
        }
      ]
    },
    {
      "cell_type": "markdown",
      "source": [
        "##How to Remove columns in Numpy array that contains non-numeric values?"
      ],
      "metadata": {
        "id": "hlnl4ZKQHHUl"
      }
    },
    {
      "cell_type": "code",
      "source": [
        "array = np.array([[1, 2, np.nan], [2, 3, 5], [np.nan, 6, 9]])\n",
        "print(\"array de exemplo: \\n\", array)\n",
        "print(\"\\nRemovendo colunas com valores nao numericos: \\n\", array[:, ~np.isnan(array).any(axis=1)])"
      ],
      "metadata": {
        "colab": {
          "base_uri": "https://localhost:8080/"
        },
        "id": "d1jcPVrRHJF9",
        "outputId": "f91f5058-44d5-4530-f6ed-1610a822b1b8"
      },
      "execution_count": null,
      "outputs": [
        {
          "output_type": "stream",
          "name": "stdout",
          "text": [
            "array de exemplo: \n",
            " [[ 1.  2. nan]\n",
            " [ 2.  3.  5.]\n",
            " [nan  6.  9.]]\n",
            "\n",
            "Removendo colunas com valores nao numericos: \n",
            " [[2.]\n",
            " [3.]\n",
            " [6.]]\n"
          ]
        }
      ]
    },
    {
      "cell_type": "markdown",
      "source": [
        "##How to access different rows of a multidimensional NumPy array?"
      ],
      "metadata": {
        "id": "vqrNfX99HpwV"
      }
    },
    {
      "cell_type": "code",
      "source": [
        "array = np.array([[1, 2, 3], [4, 5, 6], [7, 8, 9]])\n",
        "print(\"array de exemplo: \\n\", array)\n",
        "print(\"\\nAcessando linhas 1 e 2: \\n\", array[[1,2]])"
      ],
      "metadata": {
        "colab": {
          "base_uri": "https://localhost:8080/"
        },
        "id": "nkYMR-uLHu4M",
        "outputId": "eebdd8d4-54f0-455d-ebe5-dc1f1e33e1cd"
      },
      "execution_count": null,
      "outputs": [
        {
          "output_type": "stream",
          "name": "stdout",
          "text": [
            "array de exemplo: \n",
            " [[1 2 3]\n",
            " [4 5 6]\n",
            " [7 8 9]]\n",
            "\n",
            "Acessando linhas 1 e 2: \n",
            " [[4 5 6]\n",
            " [7 8 9]]\n"
          ]
        }
      ]
    },
    {
      "cell_type": "markdown",
      "source": [
        "##Get row numbers of NumPy array having element larger than X"
      ],
      "metadata": {
        "id": "i5l-SNXNIx23"
      }
    },
    {
      "cell_type": "code",
      "source": [
        "array = np.array([[1, 2, 3], [4, 5, 6], [7, 8, 9]])\n",
        "print(\"array de exemplo: \\n\", array)\n",
        "print(\"\\nOs numeros da linha que possui elementos maiores que 5, são: \\n\", np.where(np.any(array > 5, axis = 1))[0])"
      ],
      "metadata": {
        "colab": {
          "base_uri": "https://localhost:8080/"
        },
        "id": "TgS_tXRHJAP0",
        "outputId": "86f369bf-f1a4-4cc5-acc4-83414e3c5e4d"
      },
      "execution_count": null,
      "outputs": [
        {
          "output_type": "stream",
          "name": "stdout",
          "text": [
            "array de exemplo: \n",
            " [[1 2 3]\n",
            " [4 5 6]\n",
            " [7 8 9]]\n",
            "\n",
            "Os numeros da linha que possui elementos maiores que 5, são: \n",
            " [1 2]\n"
          ]
        }
      ]
    },
    {
      "cell_type": "markdown",
      "source": [
        "##Get filled the diagonals of NumPy array"
      ],
      "metadata": {
        "id": "hvem3Bk0KlVj"
      }
    },
    {
      "cell_type": "code",
      "source": [
        "array = np.zeros((4,4))\n",
        "print(\"array de exemplo: \\n\", array)\n",
        "np.fill_diagonal(array, 888)\n",
        "print(\"\\nApós preencher a diagonal, temos: \\n\", array)"
      ],
      "metadata": {
        "colab": {
          "base_uri": "https://localhost:8080/"
        },
        "id": "68aShmW0Kz2S",
        "outputId": "44125dbe-cf6c-4870-8670-e434d86d80dc"
      },
      "execution_count": null,
      "outputs": [
        {
          "output_type": "stream",
          "name": "stdout",
          "text": [
            "array de exemplo: \n",
            " [[0. 0. 0. 0.]\n",
            " [0. 0. 0. 0.]\n",
            " [0. 0. 0. 0.]\n",
            " [0. 0. 0. 0.]]\n",
            "\n",
            "Após preencher a diagonal, temos: \n",
            " [[888.   0.   0.   0.]\n",
            " [  0. 888.   0.   0.]\n",
            " [  0.   0. 888.   0.]\n",
            " [  0.   0.   0. 888.]]\n"
          ]
        }
      ]
    },
    {
      "cell_type": "markdown",
      "source": [
        "##Check elements present in the NumPy array"
      ],
      "metadata": {
        "id": "np3Tg5RSLZDa"
      }
    },
    {
      "cell_type": "code",
      "source": [
        "array = np.array([[1, 2, 3], [4, 5, 6], [7, 8, 9]])\n",
        "print(\"array de exemplo: \\n\", array)\n",
        "print(\"\\nVerificando a presença do '20': \", 20 in array)\n",
        "print(\"\\nVerificando a presença do '5': \", 5 in array)"
      ],
      "metadata": {
        "colab": {
          "base_uri": "https://localhost:8080/"
        },
        "id": "0Ae8_FH8Lb-8",
        "outputId": "aa0e61cc-8246-4c42-f415-b6ca1a5eefc4"
      },
      "execution_count": null,
      "outputs": [
        {
          "output_type": "stream",
          "name": "stdout",
          "text": [
            "array de exemplo: \n",
            " [[1 2 3]\n",
            " [4 5 6]\n",
            " [7 8 9]]\n",
            "\n",
            "Verificando a presença do '20':  False\n",
            "\n",
            "Verificando a presença do '5':  True\n"
          ]
        }
      ]
    },
    {
      "cell_type": "markdown",
      "source": [
        "##Combined array index by index"
      ],
      "metadata": {
        "id": "EIEdWlN9MTAq"
      }
    },
    {
      "cell_type": "code",
      "source": [],
      "metadata": {
        "id": "pcQwWyQyMW_5"
      },
      "execution_count": null,
      "outputs": []
    },
    {
      "cell_type": "markdown",
      "source": [
        "#Questions on NumPy Linear Algebra"
      ],
      "metadata": {
        "id": "UD0jLNF1Nus7"
      }
    },
    {
      "cell_type": "markdown",
      "source": [
        "##Find a matrix or vector norm using NumPy"
      ],
      "metadata": {
        "id": "b3lOh4KpN2z4"
      }
    },
    {
      "cell_type": "code",
      "source": [
        "matrix = np.matrix([[1, 2, 3],[4, 5, 6], [7, 8, 9]])\n",
        "print(\"Matrix de exemplo: \\n\", matrix)\n",
        "print(\"\\nMatrix norm: \", np.linalg.norm(matrix))\n",
        "\n",
        "array = np.array([1, 2, 3, 4, 5, 6, 7, 8, 9, 10])\n",
        "print(\"\\narray de exemplo: \\n\", array)\n",
        "print(\"\\nVector norm: \", np.linalg.norm(array))"
      ],
      "metadata": {
        "colab": {
          "base_uri": "https://localhost:8080/"
        },
        "id": "NcU5cKQTN57g",
        "outputId": "b9af1069-93cc-4d55-e299-21f5bee2f68b"
      },
      "execution_count": null,
      "outputs": [
        {
          "output_type": "stream",
          "name": "stdout",
          "text": [
            "Matrix de exemplo: \n",
            " [[1 2 3]\n",
            " [4 5 6]\n",
            " [7 8 9]]\n",
            "\n",
            "Matrix norm:  16.881943016134134\n",
            "\n",
            "array de exemplo: \n",
            " [ 1  2  3  4  5  6  7  8  9 10]\n",
            "\n",
            "Vector norm:  19.621416870348583\n"
          ]
        }
      ]
    },
    {
      "cell_type": "markdown",
      "source": [
        "##Calculate the QR decomposition of a given matrix using NumPy"
      ],
      "metadata": {
        "id": "DGX-9W1XRatW"
      }
    },
    {
      "cell_type": "code",
      "source": [
        "matrix = np.matrix([[1, 2, 3], [4, 5, 6]])\n",
        "q, r = np.linalg.qr(matrix)\n",
        "print('\\nQ:\\n', q)\n",
        "print('\\nR:\\n', r)"
      ],
      "metadata": {
        "colab": {
          "base_uri": "https://localhost:8080/"
        },
        "id": "4-uhtjbwRfNm",
        "outputId": "afda488d-2c22-4ecb-f8a7-dcde595fc9b4"
      },
      "execution_count": null,
      "outputs": [
        {
          "output_type": "stream",
          "name": "stdout",
          "text": [
            "\n",
            "Q:\n",
            " [[-0.24253563 -0.9701425 ]\n",
            " [-0.9701425   0.24253563]]\n",
            "\n",
            "R:\n",
            " [[-4.12310563 -5.33578375 -6.54846188]\n",
            " [ 0.         -0.72760688 -1.45521375]]\n"
          ]
        }
      ]
    },
    {
      "cell_type": "markdown",
      "source": [
        "##Compute the condition number of a given matrix using NumPy"
      ],
      "metadata": {
        "id": "E64lD4wBSKwM"
      }
    },
    {
      "cell_type": "code",
      "source": [
        "matrix = np.matrix([[1, 2, 3], [4, 5, 6], [7, 8, 9]])\n",
        "print(\"Numero de condicoes da mtriz: \", np.linalg.cond(matrix))"
      ],
      "metadata": {
        "colab": {
          "base_uri": "https://localhost:8080/"
        },
        "id": "Zdj80QBmSPhN",
        "outputId": "9b358823-70ce-4319-d788-18efa2c303a6"
      },
      "execution_count": null,
      "outputs": [
        {
          "output_type": "stream",
          "name": "stdout",
          "text": [
            "Numero de condicoes da mtriz:  3.813147060626918e+16\n"
          ]
        }
      ]
    },
    {
      "cell_type": "markdown",
      "source": [
        "##Compute the eigenvalues and right eigenvectors of a given square array using NumPy?"
      ],
      "metadata": {
        "id": "gD4Na5lgTVl0"
      }
    },
    {
      "cell_type": "code",
      "source": [
        "array = np.array([[1, 2, 3], [4, 5, 6], [7, 8, 9]])\n",
        "result1, result2 = np.linalg.eig(a)\n",
        "\n",
        "print(\"Array de exemplo: \\n\", array)\n",
        "  \n",
        "# printing eigen values\n",
        "print(\"\\nEigen valuesy:\\n\", result1)\n",
        "  \n",
        "# printing eigen vectors\n",
        "print(\"\\nRight eigenvectors:\\n\", result2)"
      ],
      "metadata": {
        "colab": {
          "base_uri": "https://localhost:8080/"
        },
        "id": "C5bNe1vITYZU",
        "outputId": "c603e824-7199-40ee-995d-5eb5cc013686"
      },
      "execution_count": null,
      "outputs": [
        {
          "output_type": "stream",
          "name": "stdout",
          "text": [
            "Array de exemplo: \n",
            " [[1 2 3]\n",
            " [4 5 6]\n",
            " [7 8 9]]\n",
            "\n",
            "Eigen valuesy:\n",
            " [ 1.61168440e+01 -1.11684397e+00 -1.30367773e-15]\n",
            "\n",
            "Right eigenvectors:\n",
            " [[-0.23197069 -0.78583024  0.40824829]\n",
            " [-0.52532209 -0.08675134 -0.81649658]\n",
            " [-0.8186735   0.61232756  0.40824829]]\n"
          ]
        }
      ]
    },
    {
      "cell_type": "markdown",
      "source": [
        "##Calculate the Euclidean distance using NumPy"
      ],
      "metadata": {
        "id": "icSvlrPDbLB2"
      }
    },
    {
      "cell_type": "code",
      "source": [
        "ponto1 = np.array((3, 4, 5))\n",
        "print(\"Ponto 1:\", ponto1)\n",
        "ponto2 = np.array((5, 4, 3))\n",
        "print(\"Ponto 2:\", ponto2)\n",
        "dist = np.linalg.norm(ponto1 - ponto2)\n",
        "print(\"\\nDistancia entre o ponto 1 e o ponto 2: \", dist)"
      ],
      "metadata": {
        "colab": {
          "base_uri": "https://localhost:8080/"
        },
        "id": "waY7cTKUbL_v",
        "outputId": "51075b42-d481-4dfa-bbb4-d1d2d635090c"
      },
      "execution_count": null,
      "outputs": [
        {
          "output_type": "stream",
          "name": "stdout",
          "text": [
            "Ponto 1: [3 4 5]\n",
            "Ponto 2: [5 4 3]\n",
            "\n",
            "Distancia entre o ponto 1 e o ponto 2:  2.8284271247461903\n"
          ]
        }
      ]
    },
    {
      "cell_type": "markdown",
      "source": [
        "#Questions on NumPy Random"
      ],
      "metadata": {
        "id": "S-skuAgbXbHH"
      }
    },
    {
      "cell_type": "markdown",
      "source": [
        "##Create a Numpy array with random values"
      ],
      "metadata": {
        "id": "_kXrat8JXcWm"
      }
    },
    {
      "cell_type": "code",
      "source": [
        "print(\"Criando uma matriz aleatória 3x3: \\n\", np.random.rand(3,3))"
      ],
      "metadata": {
        "colab": {
          "base_uri": "https://localhost:8080/"
        },
        "id": "47Cg8QqQXiah",
        "outputId": "0f45f721-00cf-4a7c-f790-af7333504e82"
      },
      "execution_count": null,
      "outputs": [
        {
          "output_type": "stream",
          "name": "stdout",
          "text": [
            "Criando uma matriz aleatória 3x3: \n",
            " [[0.71018609 0.23858435 0.42124595]\n",
            " [0.27574518 0.76931103 0.54638785]\n",
            " [0.45257286 0.68896665 0.57135004]]\n"
          ]
        }
      ]
    },
    {
      "cell_type": "markdown",
      "source": [
        "##How to choose elements from the list with different probability using NumPy?"
      ],
      "metadata": {
        "id": "zABrrZ4VYKbm"
      }
    },
    {
      "cell_type": "code",
      "source": [
        "list_ = [1,2,3,4,5,6,7,8,9,10]\n",
        "print(\"lista: \", list_)\n",
        "number = np.random.choice(list_)\n",
        "print(\"\\nNumero sorteado aleatoriamente usando NumPy: \", number)"
      ],
      "metadata": {
        "colab": {
          "base_uri": "https://localhost:8080/"
        },
        "id": "QxT7fi5iYPod",
        "outputId": "ca669d42-1497-4c03-e155-2a7c7fd3acf0"
      },
      "execution_count": null,
      "outputs": [
        {
          "output_type": "stream",
          "name": "stdout",
          "text": [
            "lista:  [1, 2, 3, 4, 5, 6, 7, 8, 9, 10]\n",
            "\n",
            "Numero sorteado aleatoriamente usando NumPy:  7\n"
          ]
        }
      ]
    },
    {
      "cell_type": "markdown",
      "source": [
        "##How to get weighted random choice in Python?"
      ],
      "metadata": {
        "id": "NjeuFGb4Y1_t"
      }
    },
    {
      "cell_type": "code",
      "source": [
        "import random\n",
        "list_ = [1,2,3,4,5,6,7,8,9,10]\n",
        "print(\"lista: \", list_)\n",
        "randomlist = random.choices(list_,(1,2,3,4,5,6,7,8,9,10),k=5)\n",
        "  \n",
        "print(\"\\nEscolha aleatoria ponderada: \\n\", randomlist)"
      ],
      "metadata": {
        "colab": {
          "base_uri": "https://localhost:8080/"
        },
        "id": "RlE-7t5rY56H",
        "outputId": "79bef4a8-94b1-47be-e255-c806a37596a7"
      },
      "execution_count": null,
      "outputs": [
        {
          "output_type": "stream",
          "name": "stdout",
          "text": [
            "lista:  [1, 2, 3, 4, 5, 6, 7, 8, 9, 10]\n",
            "\n",
            "Escolha aleatoria ponderada: \n",
            " [6, 7, 10, 8, 7]\n"
          ]
        }
      ]
    },
    {
      "cell_type": "markdown",
      "source": [
        "##Generate Random Numbers From The Uniform Distribution using NumPy"
      ],
      "metadata": {
        "id": "BPsQsGnrZ5QF"
      }
    },
    {
      "cell_type": "code",
      "source": [
        "numbers = np.random.uniform(size=5)\n",
        "print(\"Numeros gerados: \", numbers)"
      ],
      "metadata": {
        "colab": {
          "base_uri": "https://localhost:8080/"
        },
        "id": "YUnMFplVZ847",
        "outputId": "ed797da3-f11f-4e03-9c21-50d45356e092"
      },
      "execution_count": null,
      "outputs": [
        {
          "output_type": "stream",
          "name": "stdout",
          "text": [
            "Numeros gerados:  [0.54690992 0.37995469 0.38259243 0.32089647 0.21012546]\n"
          ]
        }
      ]
    },
    {
      "cell_type": "markdown",
      "source": [
        "##Get Random Elements form geometric distribution"
      ],
      "metadata": {
        "id": "61-uNpXPaQ02"
      }
    },
    {
      "cell_type": "code",
      "source": [
        "numbers = np.random.geometric(0.5, 10)\n",
        "print(\"Numeros gerados: \", numbers)"
      ],
      "metadata": {
        "colab": {
          "base_uri": "https://localhost:8080/"
        },
        "id": "wMdfvc5faV20",
        "outputId": "dbbe24db-44df-4d95-dbd1-71721ffd330a"
      },
      "execution_count": null,
      "outputs": [
        {
          "output_type": "stream",
          "name": "stdout",
          "text": [
            "Numeros gerados:  [3 1 1 1 1 1 4 2 3 1]\n"
          ]
        }
      ]
    },
    {
      "cell_type": "markdown",
      "source": [
        "##Get Random elements from Laplace distribution"
      ],
      "metadata": {
        "id": "_SnN8y3fagl_"
      }
    },
    {
      "cell_type": "code",
      "source": [
        "numbers = np.random.laplace(2, 1, 10)\n",
        "print(\"Numeros gerados: \", numbers)"
      ],
      "metadata": {
        "colab": {
          "base_uri": "https://localhost:8080/"
        },
        "id": "SlrSIZeoakTS",
        "outputId": "35e90ce5-3210-4067-fcd2-b9305bf0af02"
      },
      "execution_count": null,
      "outputs": [
        {
          "output_type": "stream",
          "name": "stdout",
          "text": [
            "Numeros gerados:  [3.04303365 0.59339436 1.4223318  2.95572375 1.90206359 1.93717633\n",
            " 1.84929356 1.3945784  2.48651951 2.55683651]\n"
          ]
        }
      ]
    },
    {
      "cell_type": "markdown",
      "source": [
        "##Return a Matrix of random values from a uniform distribution"
      ],
      "metadata": {
        "id": "UYkCGjeRas3H"
      }
    },
    {
      "cell_type": "code",
      "source": [
        "numbers = np.random.uniform(size=(3,3))\n",
        "print(\"Numeros gerados: \\n\", numbers)"
      ],
      "metadata": {
        "colab": {
          "base_uri": "https://localhost:8080/"
        },
        "id": "RlD2DOwHaw7V",
        "outputId": "405a973b-cb77-4c2a-befc-d5abc2dceeb3"
      },
      "execution_count": null,
      "outputs": [
        {
          "output_type": "stream",
          "name": "stdout",
          "text": [
            "Numeros gerados: \n",
            " [[0.47600127 0.53877922 0.22866842]\n",
            " [0.92650725 0.62398597 0.78002068]\n",
            " [0.00826519 0.35188624 0.88045894]]\n"
          ]
        }
      ]
    },
    {
      "cell_type": "markdown",
      "source": [
        "##Return a Matrix of random values from a Gaussian distribution"
      ],
      "metadata": {
        "id": "yB2vfGQHbS6J"
      }
    },
    {
      "cell_type": "code",
      "source": [
        "numbers = np.random.normal(size=(3,3))\n",
        "print(\"Numeros gerados: \\n\", numbers)"
      ],
      "metadata": {
        "colab": {
          "base_uri": "https://localhost:8080/"
        },
        "id": "wFFEasUtbL6u",
        "outputId": "f9da0af8-f603-45fd-e327-f37e534bb386"
      },
      "execution_count": null,
      "outputs": [
        {
          "output_type": "stream",
          "name": "stdout",
          "text": [
            "Numeros gerados: \n",
            " [[ 0.30161904 -1.94105406 -0.481846  ]\n",
            " [ 1.17690005 -0.07415405 -0.33654946]\n",
            " [ 0.20830554 -0.21526456  1.90543556]]\n"
          ]
        }
      ]
    },
    {
      "cell_type": "markdown",
      "source": [
        "#Questions on NumPy Sorting and Searching"
      ],
      "metadata": {
        "id": "R0ibYhDPbkkm"
      }
    },
    {
      "cell_type": "markdown",
      "source": [
        "##How to get the indices of the sorted array using NumPy in Python?"
      ],
      "metadata": {
        "id": "JN5XcEEoblqz"
      }
    },
    {
      "cell_type": "code",
      "source": [
        "array = np.array([10, 1, 2, 9, 7, 3, 4, 6, 5, 8])\n",
        "print(\"índices ordenados pelos valores do array: \\n\", np.argsort(array))"
      ],
      "metadata": {
        "colab": {
          "base_uri": "https://localhost:8080/"
        },
        "id": "uWFaGFoibodh",
        "outputId": "7bffd882-5094-414c-c901-c7b935e266d0"
      },
      "execution_count": null,
      "outputs": [
        {
          "output_type": "stream",
          "name": "stdout",
          "text": [
            "índices ordenados pelos valores do array: \n",
            " [1 2 5 6 8 7 4 9 3 0]\n"
          ]
        }
      ]
    },
    {
      "cell_type": "markdown",
      "source": [
        "##Finding the k smallest values of a NumPy array"
      ],
      "metadata": {
        "id": "2CSxkvWldQsO"
      }
    },
    {
      "cell_type": "code",
      "source": [
        "array = np.array([5, 6, 4, 3, 1, 2])\n",
        "print(\"Array inicial de exemplo: \\n\", array)\n",
        "k = 3\n",
        "  \n",
        "print(\"\\n\", k, \" Menores valores do array\")\n",
        "print(np.sort(array)[:k])"
      ],
      "metadata": {
        "colab": {
          "base_uri": "https://localhost:8080/"
        },
        "id": "mjUJNHoMdj6y",
        "outputId": "ef72546c-39cd-4c34-9c7c-5a71afac7fa6"
      },
      "execution_count": null,
      "outputs": [
        {
          "output_type": "stream",
          "name": "stdout",
          "text": [
            "Array inicial de exemplo: \n",
            " [5 6 4 3 1 2]\n",
            "\n",
            " 3  Menores valores do array\n",
            "[1 2 3]\n"
          ]
        }
      ]
    },
    {
      "cell_type": "markdown",
      "source": [
        "##How to get the n-largest values of an array using NumPy?"
      ],
      "metadata": {
        "id": "_Zot9uNAeKzu"
      }
    },
    {
      "cell_type": "code",
      "source": [
        "array = np.array([5, 6, 4, 3, 1, 2])\n",
        "print(\"Array inicial de exemplo: \\n\", array)\n",
        "k = 3\n",
        "  \n",
        "print(\"\\n\", k, \" Maiores valores do array\")\n",
        "print(np.sort(array)[-k:])"
      ],
      "metadata": {
        "colab": {
          "base_uri": "https://localhost:8080/"
        },
        "id": "O-JJFaTmeNZG",
        "outputId": "544d653e-ddd1-4b98-eeda-a9130f244fff"
      },
      "execution_count": null,
      "outputs": [
        {
          "output_type": "stream",
          "name": "stdout",
          "text": [
            "Array inicial de exemplo: \n",
            " [5 6 4 3 1 2]\n",
            "\n",
            " 3  Maiores valores do array\n",
            "[4 5 6]\n"
          ]
        }
      ]
    },
    {
      "cell_type": "markdown",
      "source": [
        "##Sort the values in a matrix"
      ],
      "metadata": {
        "id": "HW7itvuneuK3"
      }
    },
    {
      "cell_type": "code",
      "source": [
        "matrix = np.matrix([[5, 6, 4], [3, 1, 2], [9, 7, 8]])\n",
        "print(\"Matriz inicial de exemplo: \\n\", matrix)\n",
        "matrix.sort()\n",
        "print(\"\\nMatriz ordenada nas linhas: \\n\", matrix)\n",
        "matrix.sort()\n",
        "print(\"\\nMatriz ordenada completamente: \\n\", np.sort(np.ravel(matrix)).reshape([3, 3]))"
      ],
      "metadata": {
        "colab": {
          "base_uri": "https://localhost:8080/"
        },
        "id": "MKaW8zleexMQ",
        "outputId": "b5cdf294-6e87-4666-d4dd-cf62279b2de7"
      },
      "execution_count": null,
      "outputs": [
        {
          "output_type": "stream",
          "name": "stdout",
          "text": [
            "Matriz inicial de exemplo: \n",
            " [[5 6 4]\n",
            " [3 1 2]\n",
            " [9 7 8]]\n",
            "\n",
            "Matriz ordenada nas linhas: \n",
            " [[4 5 6]\n",
            " [1 2 3]\n",
            " [7 8 9]]\n",
            "\n",
            "Matriz ordenada completamente: \n",
            " [[1 2 3]\n",
            " [4 5 6]\n",
            " [7 8 9]]\n"
          ]
        }
      ]
    },
    {
      "cell_type": "markdown",
      "source": [
        "##Filter out integers from float numpy array"
      ],
      "metadata": {
        "id": "0BPlV9cHft_B"
      }
    },
    {
      "cell_type": "code",
      "source": [
        "array = np.array([1.1, 1.2, 1, 2.1, 2, 2.3, 3, 3.2, 3.3])\n",
        "print(\"Array inicial de exemplo: \\n\", array)\n",
        "array = array[array != array.astype(int)] \n",
        "print(\"\\nArray após remover os inteiors: \\n\", array)"
      ],
      "metadata": {
        "colab": {
          "base_uri": "https://localhost:8080/"
        },
        "id": "NyMlW5rsfxOH",
        "outputId": "377c9508-34ee-40d1-9157-0d6d2aca9542"
      },
      "execution_count": null,
      "outputs": [
        {
          "output_type": "stream",
          "name": "stdout",
          "text": [
            "Array inicial de exemplo: \n",
            " [1.1 1.2 1.  2.1 2.  2.3 3.  3.2 3.3]\n",
            "\n",
            "Array após remover os inteiors: \n",
            " [1.1 1.2 2.1 2.3 3.2 3.3]\n"
          ]
        }
      ]
    },
    {
      "cell_type": "markdown",
      "source": [
        "##Find the indices into a sorted array"
      ],
      "metadata": {
        "id": "bcx4lXEIhYIR"
      }
    },
    {
      "cell_type": "code",
      "source": [
        "array = np.array([10, 1, 2, 9, 7, 3, 4, 6, 5, 8])\n",
        "print(\"índices ordenados pelos valores do array: \\n\", np.argsort(array))"
      ],
      "metadata": {
        "colab": {
          "base_uri": "https://localhost:8080/"
        },
        "id": "PXuKRBfYhaRh",
        "outputId": "ab8d4da4-0d8d-415b-9240-cf5c22d6438a"
      },
      "execution_count": null,
      "outputs": [
        {
          "output_type": "stream",
          "name": "stdout",
          "text": [
            "índices ordenados pelos valores do array: \n",
            " [1 2 5 6 8 7 4 9 3 0]\n"
          ]
        }
      ]
    },
    {
      "cell_type": "markdown",
      "source": [],
      "metadata": {
        "id": "lrDh6Tzea43m"
      }
    },
    {
      "cell_type": "markdown",
      "source": [
        "#Questions on NumPy Mathematics"
      ],
      "metadata": {
        "id": "To_D049ih5-q"
      }
    },
    {
      "cell_type": "markdown",
      "source": [
        "##How to get element-wise true division of an array using Numpy?"
      ],
      "metadata": {
        "id": "VhoJnsE0h673"
      }
    },
    {
      "cell_type": "code",
      "source": [
        "array = np.arange(5)\n",
        "print(\"Array inicial de exemplo: \", array)\n",
        "print(\"\\nElementos divididos por 4:\", np.true_divide(array, 4))"
      ],
      "metadata": {
        "colab": {
          "base_uri": "https://localhost:8080/"
        },
        "id": "emIMmS2Rh9Y3",
        "outputId": "6f6710d4-87d5-430a-84b3-b953f897142d"
      },
      "execution_count": null,
      "outputs": [
        {
          "output_type": "stream",
          "name": "stdout",
          "text": [
            "Array inicial de exemplo:  [0 1 2 3 4]\n",
            "\n",
            "Elementos divididos por 4: [0.   0.25 0.5  0.75 1.  ]\n"
          ]
        }
      ]
    },
    {
      "cell_type": "markdown",
      "source": [
        "##How to calculate the element-wise absolute value of NumPy array?"
      ],
      "metadata": {
        "id": "Zw0lUPZBlU7p"
      }
    },
    {
      "cell_type": "code",
      "source": [
        "array = np.array([1,-2,-313,-4,12,-21,45,445])\n",
        "print(\"Array inicial de exemplo: \\n\", array)\n",
        "print(\"\\nValor absoluto: \\n\", np.absolute(array))"
      ],
      "metadata": {
        "colab": {
          "base_uri": "https://localhost:8080/"
        },
        "id": "cWCUKiV2lYbb",
        "outputId": "7279918b-4f0d-4de7-e386-ff2a20dfc32f"
      },
      "execution_count": null,
      "outputs": [
        {
          "output_type": "stream",
          "name": "stdout",
          "text": [
            "Array inicial de exemplo: \n",
            " [   1   -2 -313   -4   12  -21   45  445]\n",
            "\n",
            "Valor absoluto: \n",
            " [  1   2 313   4  12  21  45 445]\n"
          ]
        }
      ]
    },
    {
      "cell_type": "markdown",
      "source": [
        "##Compute the negative of the NumPy array"
      ],
      "metadata": {
        "id": "O2Mch-JBl_p5"
      }
    },
    {
      "cell_type": "code",
      "source": [
        "array = np.array([1,-2,-313,-4,12,-21,45,445])\n",
        "print(\"Array inicial de exemplo: \\n\", array)\n",
        "print(\"\\nValor absoluto: \\n\", np.negative(array))"
      ],
      "metadata": {
        "colab": {
          "base_uri": "https://localhost:8080/"
        },
        "id": "PQYST8-nmFNC",
        "outputId": "26356f2f-1b6c-410b-b5c3-179aa36ddbe6"
      },
      "execution_count": null,
      "outputs": [
        {
          "output_type": "stream",
          "name": "stdout",
          "text": [
            "Array inicial de exemplo: \n",
            " [   1   -2 -313   -4   12  -21   45  445]\n",
            "\n",
            "Valor absoluto: \n",
            " [  -1    2  313    4  -12   21  -45 -445]\n"
          ]
        }
      ]
    },
    {
      "cell_type": "markdown",
      "source": [
        "##Multiply 2d numpy array corresponding to 1d array"
      ],
      "metadata": {
        "id": "fhfqUeSWmdra"
      }
    },
    {
      "cell_type": "code",
      "source": [
        "array1 = np.array([[1, 2, 3], [4, 5, 6], [7 ,8 ,9]])\n",
        "print(\"Array1: \\n\", array1)\n",
        "array2 = np.array([0, 5, 3])\n",
        "print(\"\\nArray2: \\n\", array2)\n",
        "\n",
        "result = array1 * array2[:, np.newaxis]\n",
        "print(\"\\nResultado: \\n\", result)"
      ],
      "metadata": {
        "colab": {
          "base_uri": "https://localhost:8080/"
        },
        "id": "N042mrUWmf8p",
        "outputId": "33b645a5-dd54-45ea-b449-1ecd3205d50f"
      },
      "execution_count": null,
      "outputs": [
        {
          "output_type": "stream",
          "name": "stdout",
          "text": [
            "Array1: \n",
            " [[1 2 3]\n",
            " [4 5 6]\n",
            " [7 8 9]]\n",
            "\n",
            "Array2: \n",
            " [0 5 3]\n",
            "\n",
            "Resultado: \n",
            " [[ 0  0  0]\n",
            " [20 25 30]\n",
            " [21 24 27]]\n"
          ]
        }
      ]
    },
    {
      "cell_type": "markdown",
      "source": [
        "##Computes the inner product of two arrays"
      ],
      "metadata": {
        "id": "PvEs9ldTnRCT"
      }
    },
    {
      "cell_type": "code",
      "source": [
        "array1 = np.array([1, 2, 3, 4, 5])\n",
        "print(\"Array1: \\n\", array1)\n",
        "array2 = np.array([6, 7, 8, 9, 10])\n",
        "print(\"\\nArray2: \\n\", array2)\n",
        "result = np.inner(array1, array2)\n",
        "print(\"\\nResultado: \\n\", result)"
      ],
      "metadata": {
        "colab": {
          "base_uri": "https://localhost:8080/"
        },
        "id": "c85Uk1dGnT0K",
        "outputId": "f23d4af2-e053-4ccf-d0ef-33f54b66c277"
      },
      "execution_count": null,
      "outputs": [
        {
          "output_type": "stream",
          "name": "stdout",
          "text": [
            "Array1: \n",
            " [1 2 3 4 5]\n",
            "\n",
            "Array2: \n",
            " [ 6  7  8  9 10]\n",
            "\n",
            "Resultado: \n",
            " 130\n"
          ]
        }
      ]
    },
    {
      "cell_type": "markdown",
      "source": [
        "##Compute the nth percentile of the NumPy array"
      ],
      "metadata": {
        "id": "teHvI64DoM8K"
      }
    },
    {
      "cell_type": "code",
      "source": [
        "array = np.array([1,2,3,4,5,6,7,8,9,10])\n",
        "n=50\n",
        "print(\"50th percentile of arr : \",\n",
        "       np.percentile(array, 50))\n",
        "print(\"25th percentile of arr : \",\n",
        "       np.percentile(array, 25))\n",
        "print(\"75th percentile of arr : \",\n",
        "       np.percentile(array, 75))"
      ],
      "metadata": {
        "colab": {
          "base_uri": "https://localhost:8080/"
        },
        "id": "Gr7-N18soRuk",
        "outputId": "d9d5915f-2db2-4481-e980-6a2a323fce2c"
      },
      "execution_count": null,
      "outputs": [
        {
          "output_type": "stream",
          "name": "stdout",
          "text": [
            "50th percentile of arr :  5.5\n",
            "25th percentile of arr :  3.25\n",
            "75th percentile of arr :  7.75\n"
          ]
        }
      ]
    },
    {
      "cell_type": "markdown",
      "source": [
        "##Calculate the n-th order discrete difference along the given axis"
      ],
      "metadata": {
        "id": "jhJJIJuXo_Ch"
      }
    },
    {
      "cell_type": "code",
      "source": [
        "array = np.array([3, 2, 8, 1, 9, 7, 5, 10, 6, 4])\n",
        "  \n",
        "print(\"First order difference  : \", np.diff(array))\n",
        "print(\"Second order difference : \", np.diff(array, 2))\n",
        "print(\"Third order difference  : \", np.diff(array, 3))"
      ],
      "metadata": {
        "colab": {
          "base_uri": "https://localhost:8080/"
        },
        "id": "BAJZ2XDVpB6R",
        "outputId": "822264cc-c07b-4154-f93f-de425f8e695e"
      },
      "execution_count": null,
      "outputs": [
        {
          "output_type": "stream",
          "name": "stdout",
          "text": [
            "First order difference  :  [-1  6 -7  8 -2 -2  5 -4 -2]\n",
            "Second order difference :  [  7 -13  15 -10   0   7  -9   2]\n",
            "Third order difference  :  [-20  28 -25  10   7 -16  11]\n"
          ]
        }
      ]
    },
    {
      "cell_type": "markdown",
      "source": [
        "##Calculate the sum of all columns in a 2D NumPy array"
      ],
      "metadata": {
        "id": "U_asQFpVpx2r"
      }
    },
    {
      "cell_type": "code",
      "source": [
        "array = np.array([[1, 2, 3], [4, 5, 6], [7, 8, 9]])\n",
        "print(\"Array inicial de exemplo: \\n\", array)\n",
        "print(\"\\nResultado das somas das colunas\", np.sum(array, axis=0))"
      ],
      "metadata": {
        "colab": {
          "base_uri": "https://localhost:8080/"
        },
        "id": "-XSHMeeEp1Mp",
        "outputId": "2e4c1286-4218-4eba-d831-ee44e95acb23"
      },
      "execution_count": null,
      "outputs": [
        {
          "output_type": "stream",
          "name": "stdout",
          "text": [
            "Array inicial de exemplo: \n",
            " [[1 2 3]\n",
            " [4 5 6]\n",
            " [7 8 9]]\n",
            "\n",
            "Resultado das somas das colunas [12 15 18]\n"
          ]
        }
      ]
    },
    {
      "cell_type": "markdown",
      "source": [
        "##Calculate average values of two given NumPy arrays"
      ],
      "metadata": {
        "id": "ckyHKFwVqnt0"
      }
    },
    {
      "cell_type": "code",
      "source": [
        "array1 = np.array([1, 2, 3, 4, 5])\n",
        "print(\"Array1: \\n\", array1)\n",
        "array2 = np.array([6, 7, 8, 9, 10])\n",
        "print(\"Array2: \\n\", array2)\n",
        "  \n",
        "avg = (array1 + array2) / 2\n",
        "  \n",
        "print(\"\\nValor medio das duas matrizes NumPy:\\n\", avg)"
      ],
      "metadata": {
        "colab": {
          "base_uri": "https://localhost:8080/"
        },
        "id": "uUURmhQJqp8L",
        "outputId": "4f10cb44-d72f-4112-f0c0-89d033aeee1f"
      },
      "execution_count": null,
      "outputs": [
        {
          "output_type": "stream",
          "name": "stdout",
          "text": [
            "Array1: \n",
            " [1 2 3 4 5]\n",
            "Array2: \n",
            " [ 6  7  8  9 10]\n",
            "\n",
            "Valor medio das duas matrizes NumPy:\n",
            " [3.5 4.5 5.5 6.5 7.5]\n"
          ]
        }
      ]
    },
    {
      "cell_type": "markdown",
      "source": [
        "##How to compute numerical negative value for all elements in a given NumPy array?"
      ],
      "metadata": {
        "id": "fbWUu1I1rUFq"
      }
    },
    {
      "cell_type": "code",
      "source": [
        "array = np.array([1,2,3,4,5,6,7,8,9,10])\n",
        "print(\"Array inicial de exemplo: \\n\", array)\n",
        "print(\"\\nvalor negativo numérico para todos os elementos\", np.negative(array))"
      ],
      "metadata": {
        "colab": {
          "base_uri": "https://localhost:8080/"
        },
        "id": "PKHEqg-IrXXa",
        "outputId": "50e594c6-e5fa-47b6-d1f2-cd8c688ef072"
      },
      "execution_count": null,
      "outputs": [
        {
          "output_type": "stream",
          "name": "stdout",
          "text": [
            "Array inicial de exemplo: \n",
            " [ 1  2  3  4  5  6  7  8  9 10]\n",
            "\n",
            "valor negativo numérico para todos os elementos [ -1  -2  -3  -4  -5  -6  -7  -8  -9 -10]\n"
          ]
        }
      ]
    },
    {
      "cell_type": "markdown",
      "source": [
        "##How to get the floor, ceiling and truncated values of the elements of a numpy array?"
      ],
      "metadata": {
        "id": "rT5eyqKkr9Mq"
      }
    },
    {
      "cell_type": "code",
      "source": [
        "array = np.array([1.2, 2.4, 3.6, 4.8, 5.5, 6.3, 7.7, 8.8, 9.1, 10.9])\n",
        "print(\"Array inicial de exemplo: \\n\", array)\n",
        "  \n",
        "# Get floor value\n",
        "array_floor = np.floor(array)\n",
        "print(\"\\nfloor: \\n\", array_floor)\n",
        "\n",
        "# Get ceil value\n",
        "array_ceil = np.ceil(array)\n",
        "print(\"\\nceil: \\n\", array_ceil)\n",
        "\n",
        "# Get truncate value\n",
        "array_truncate = np.trunc(array)\n",
        "print(\"\\ntruncate: \\n\", array_truncate)"
      ],
      "metadata": {
        "colab": {
          "base_uri": "https://localhost:8080/"
        },
        "id": "Ui-9kV_xsBPF",
        "outputId": "62a16a3e-2c61-48d1-949e-5c071726c5af"
      },
      "execution_count": null,
      "outputs": [
        {
          "output_type": "stream",
          "name": "stdout",
          "text": [
            "Array inicial de exemplo: \n",
            " [ 1.2  2.4  3.6  4.8  5.5  6.3  7.7  8.8  9.1 10.9]\n",
            "\n",
            "floor: \n",
            " [ 1.  2.  3.  4.  5.  6.  7.  8.  9. 10.]\n",
            "\n",
            "ceil: \n",
            " [ 2.  3.  4.  5.  6.  7.  8.  9. 10. 11.]\n",
            "\n",
            "truncate: \n",
            " [ 1.  2.  3.  4.  5.  6.  7.  8.  9. 10.]\n"
          ]
        }
      ]
    },
    {
      "cell_type": "markdown",
      "source": [
        "##How to round elements of the NumPy array to the nearest integer?"
      ],
      "metadata": {
        "id": "wKZgeswRtLvE"
      }
    },
    {
      "cell_type": "code",
      "source": [
        "array = np.array([1.000000001, 2.812, 12.121, 2.7221, 313.91])\n",
        "print(\"Array inicial de exemplo: \\n\", array)\n",
        "print(\"\\nElementos arredonadados para o inteiro mais próximo: \\n\", np.rint(array))"
      ],
      "metadata": {
        "colab": {
          "base_uri": "https://localhost:8080/"
        },
        "id": "0sTGHhNltN-V",
        "outputId": "e9d8564c-f0c4-4f99-d072-ac5dbefa2578"
      },
      "execution_count": null,
      "outputs": [
        {
          "output_type": "stream",
          "name": "stdout",
          "text": [
            "Array inicial de exemplo: \n",
            " [  1.       2.812   12.121    2.7221 313.91  ]\n",
            "\n",
            "Elementos arredonadados para o inteiro mais próximo: \n",
            " [  1.   3.  12.   3. 314.]\n"
          ]
        }
      ]
    },
    {
      "cell_type": "markdown",
      "source": [
        "##Find the round off the values of the given matrix"
      ],
      "metadata": {
        "id": "kgTWgUp4twQb"
      }
    },
    {
      "cell_type": "code",
      "source": [
        "array = np.array([[1.000000001,2.812,12.121,2.7221], [1.9900000001,2.112,12.921,2.1221], [8.9900000001,5.112,32.921,0.1221]])\n",
        "print(\"Array inicial de exemplo: \\n\", array)\n",
        "print(\"\\nArredondando os valores: \\n\", np.round(array))"
      ],
      "metadata": {
        "colab": {
          "base_uri": "https://localhost:8080/"
        },
        "id": "ywrn7lr9t0NR",
        "outputId": "80fd8f32-1cce-4773-9fe8-4584600c045d"
      },
      "execution_count": null,
      "outputs": [
        {
          "output_type": "stream",
          "name": "stdout",
          "text": [
            "Array inicial de exemplo: \n",
            " [[ 1.      2.812  12.121   2.7221]\n",
            " [ 1.99    2.112  12.921   2.1221]\n",
            " [ 8.99    5.112  32.921   0.1221]]\n",
            "\n",
            "Arredondando os valores: \n",
            " [[ 1.  3. 12.  3.]\n",
            " [ 2.  2. 13.  2.]\n",
            " [ 9.  5. 33.  0.]]\n"
          ]
        }
      ]
    },
    {
      "cell_type": "markdown",
      "source": [
        "##Determine the positive square-root of an array"
      ],
      "metadata": {
        "id": "xbuEc7eVupAb"
      }
    },
    {
      "cell_type": "code",
      "source": [
        "array = np.array([[49, 81, 16], [9, 144, 4], [100, 25, 36]])\n",
        "print(\"Array inicial de exemplo: \\n\", array)\n",
        "print(\"\\nRaiz quadradas da matriz: \\n\", np.sqrt(array))"
      ],
      "metadata": {
        "colab": {
          "base_uri": "https://localhost:8080/"
        },
        "id": "KCXVofnIur5T",
        "outputId": "552040ee-006e-42ec-aec4-9da1fbc67c2c"
      },
      "execution_count": null,
      "outputs": [
        {
          "output_type": "stream",
          "name": "stdout",
          "text": [
            "Array inicial de exemplo: \n",
            " [[ 49  81  16]\n",
            " [  9 144   4]\n",
            " [100  25  36]]\n",
            "\n",
            "Raiz quadradas da matriz: \n",
            " [[ 7.  9.  4.]\n",
            " [ 3. 12.  2.]\n",
            " [10.  5.  6.]]\n"
          ]
        }
      ]
    },
    {
      "cell_type": "markdown",
      "source": [
        "##Evaluate Einstein’s summation convention of two multidimensional NumPy arrays"
      ],
      "metadata": {
        "id": "08hFD-WUvSd7"
      }
    },
    {
      "cell_type": "code",
      "source": [
        "array1 = np.array([[1, 2], [3, 4]])\n",
        "print(\"Array1 inicial de exemplo: \\n\", array1)\n",
        "array2 = np.array([[5, 6], [7, 8]])\n",
        "print(\"\\nArray2 inicial de exemplo: \\n\", array2)\n",
        "  \n",
        "result = np.einsum(\"mk, kn\", array1, array2)\n",
        "  \n",
        "print(\"\\nConvenção de soma de Einstein de duas matrize:\")\n",
        "print(result)"
      ],
      "metadata": {
        "colab": {
          "base_uri": "https://localhost:8080/"
        },
        "id": "jJ_OrZW8vVmE",
        "outputId": "2e1a882f-af38-45c1-fb1d-d7f08d8aff29"
      },
      "execution_count": null,
      "outputs": [
        {
          "output_type": "stream",
          "name": "stdout",
          "text": [
            "Array1 inicial de exemplo: \n",
            " [[1 2]\n",
            " [3 4]]\n",
            "\n",
            "Array2 inicial de exemplo: \n",
            " [[5 6]\n",
            " [7 8]]\n",
            "\n",
            "Convenção de soma de Einstein de duas matrize:\n",
            "[[19 22]\n",
            " [43 50]]\n"
          ]
        }
      ]
    },
    {
      "cell_type": "markdown",
      "source": [
        "#Questions on NumPy Statistics"
      ],
      "metadata": {
        "id": "mWHZdPjMv1d1"
      }
    },
    {
      "cell_type": "markdown",
      "source": [
        "##Compute the median of the flattened NumPy array"
      ],
      "metadata": {
        "id": "fOyVLWJSv2dV"
      }
    },
    {
      "cell_type": "code",
      "source": [
        "array = np.array([1, 2, 3, 4, 5, 6, 7, 8, 9, 10])\n",
        "print(\"Array inicial de exemplo: \\n\", array1)\n",
        "\n",
        "print(\"\\nMediana deste array: \", np.median(array))"
      ],
      "metadata": {
        "id": "8o-oKLefv5kE",
        "colab": {
          "base_uri": "https://localhost:8080/"
        },
        "outputId": "5f300ea9-54e1-46dd-f117-b3afe80f86ee"
      },
      "execution_count": null,
      "outputs": [
        {
          "output_type": "stream",
          "name": "stdout",
          "text": [
            "Array inicial de exemplo: \n",
            " [[1 2]\n",
            " [3 4]]\n",
            "\n",
            "Mediana deste array:  5.5\n"
          ]
        }
      ]
    },
    {
      "cell_type": "markdown",
      "source": [
        "##Find Mean of a List of Numpy Array"
      ],
      "metadata": {
        "id": "kZMrtMwIrN5J"
      }
    },
    {
      "cell_type": "code",
      "source": [
        "arrays = [np.random.rand(9) for i in range(3)]\n",
        "print(\"3 Array tomados como exemplo: \\n\", \"Array 0\\n\", arrays[0], \"\\n\\nArray 1\\n\", arrays[1], \"\\n\\nArray 2\\n\", arrays[2])\n",
        "\n",
        "print(\"\\nMedias de cada array em sequencia: \\n\", [np.mean(i) for i in arrays])"
      ],
      "metadata": {
        "colab": {
          "base_uri": "https://localhost:8080/"
        },
        "id": "CFfHI4uSrQNA",
        "outputId": "1c5d07b3-167a-4550-f6e5-2ce3d2455781"
      },
      "execution_count": null,
      "outputs": [
        {
          "output_type": "stream",
          "name": "stdout",
          "text": [
            "3 Array tomados como exemplo: \n",
            " Array 0\n",
            " [0.4072209  0.88628284 0.30772458 0.3515768  0.07304289 0.4517719\n",
            " 0.2009226  0.4524168  0.12892146] \n",
            "\n",
            "Array 1\n",
            " [0.97939794 0.09932963 0.98889469 0.81010609 0.16186014 0.41362741\n",
            " 0.23756443 0.32932723 0.08365751] \n",
            "\n",
            "Array 2\n",
            " [0.05553446 0.25263801 0.05423908 0.18359881 0.61029701 0.15733553\n",
            " 0.62441192 0.9839405  0.91632361]\n",
            "\n",
            "Medias de cada array em sequencia: \n",
            " [0.3622089733651977, 0.4559738966444172, 0.42647988073044296]\n"
          ]
        }
      ]
    },
    {
      "cell_type": "markdown",
      "source": [
        "##Calculate the mean of array ignoring the NaN value"
      ],
      "metadata": {
        "id": "wRIdIqkawzND"
      }
    },
    {
      "cell_type": "code",
      "source": [
        "array = np.array([1, np.nan, 3, 4, np.nan, 6, 7, np.nan, 9, 10]) \n",
        "print(\"Array inicial de exemplo: \\n\", array)\n",
        "\n",
        "print(\"\\nMedia do array ignorando valores NaN: \", np.nanmean(array))"
      ],
      "metadata": {
        "colab": {
          "base_uri": "https://localhost:8080/"
        },
        "id": "G2aGxur9w0Hz",
        "outputId": "22f6c7dd-8c06-4268-f523-d048f835c2bd"
      },
      "execution_count": null,
      "outputs": [
        {
          "output_type": "stream",
          "name": "stdout",
          "text": [
            "Array inicial de exemplo: \n",
            " [ 1. nan  3.  4. nan  6.  7. nan  9. 10.]\n",
            "\n",
            "Media do array ignorando valores NaN:  5.714285714285714\n"
          ]
        }
      ]
    },
    {
      "cell_type": "markdown",
      "source": [
        "##Get the mean value from given matrix"
      ],
      "metadata": {
        "id": "gMh5Ua1g2OEV"
      }
    },
    {
      "cell_type": "code",
      "source": [
        "matrix = np.matrix([[1,2,3], [4,5,6], [7,8,9]])\n",
        "print(\"Matriz inicial de exemplo: \\n\", matrix)\n",
        "\n",
        "print(\"\\nMedia da matriz: \", matrix.mean())"
      ],
      "metadata": {
        "colab": {
          "base_uri": "https://localhost:8080/"
        },
        "id": "RbJ5voKt2W5I",
        "outputId": "3f776675-9120-4b56-8fe1-a34cf661abb9"
      },
      "execution_count": null,
      "outputs": [
        {
          "output_type": "stream",
          "name": "stdout",
          "text": [
            "Matriz inicial de exemplo: \n",
            " [[1 2 3]\n",
            " [4 5 6]\n",
            " [7 8 9]]\n",
            "\n",
            "Media da matriz:  5.0\n"
          ]
        }
      ]
    },
    {
      "cell_type": "markdown",
      "source": [
        "##Compute the variance of the NumPy array"
      ],
      "metadata": {
        "id": "wMU452mn2u8P"
      }
    },
    {
      "cell_type": "code",
      "source": [
        "array = np.array([1, 5, 2, 8, 12, 78, 15, 38])\n",
        "print(\"Array inicial de exemplo: \\n\", array)\n",
        "\n",
        "print(\"\\nvariancia: \", np.var(array))"
      ],
      "metadata": {
        "colab": {
          "base_uri": "https://localhost:8080/"
        },
        "id": "pIIrcw5d2y9u",
        "outputId": "d64ef12b-677f-40db-8688-5469afe8e6c7"
      },
      "execution_count": null,
      "outputs": [
        {
          "output_type": "stream",
          "name": "stdout",
          "text": [
            "Array inicial de exemplo: \n",
            " [ 1  5  2  8 12 78 15 38]\n",
            "\n",
            "variancia:  603.859375\n"
          ]
        }
      ]
    },
    {
      "cell_type": "markdown",
      "source": [
        "##Compute the standard deviation of the NumPy array"
      ],
      "metadata": {
        "id": "sijzDoGS3eNi"
      }
    },
    {
      "cell_type": "code",
      "source": [
        "array = np.array([1, 5, 2, 8, 12, 78, 15, 38])\n",
        "print(\"Array inicial de exemplo: \\n\", array)\n",
        "\n",
        "print(\"\\nDesvio padrão: \", np.std(array))"
      ],
      "metadata": {
        "colab": {
          "base_uri": "https://localhost:8080/"
        },
        "id": "57vGnSMp3hZL",
        "outputId": "d1bce0a9-1704-48aa-bf5d-4c8d42a5592d"
      },
      "execution_count": null,
      "outputs": [
        {
          "output_type": "stream",
          "name": "stdout",
          "text": [
            "Array inicial de exemplo: \n",
            " [ 1  5  2  8 12 78 15 38]\n",
            "\n",
            "Desvio padrão:  24.57355031329417\n"
          ]
        }
      ]
    },
    {
      "cell_type": "markdown",
      "source": [
        "##Compute pearson product-moment correlation coefficients of two given NumPy arrays"
      ],
      "metadata": {
        "id": "pJfUEliy4PMv"
      }
    },
    {
      "cell_type": "code",
      "source": [
        "array1 = np.array([1, 2, 3, 4, 5])\n",
        "print(\"Array1 inicial de exemplo: \\n\", array1)\n",
        "array2 = np.array([21, 27, 28, 29, 30])\n",
        "print(\"\\nArray2 inicial de exemplo: \\n\", array2)\n",
        "  \n",
        "print(\"\\nResultado: \\n\", np.corrcoef(array1, array2))"
      ],
      "metadata": {
        "colab": {
          "base_uri": "https://localhost:8080/"
        },
        "id": "zgNGo7RN4T7I",
        "outputId": "2d544e6c-f3e6-454c-b9e6-b9b71b68257c"
      },
      "execution_count": null,
      "outputs": [
        {
          "output_type": "stream",
          "name": "stdout",
          "text": [
            "Array1 inicial de exemplo: \n",
            " [1 2 3 4 5]\n",
            "\n",
            "Array2 inicial de exemplo: \n",
            " [21 27 28 29 30]\n",
            "\n",
            "Resultado: \n",
            " [[1.         0.89442719]\n",
            " [0.89442719 1.        ]]\n"
          ]
        }
      ]
    },
    {
      "cell_type": "markdown",
      "source": [
        "##Calculate the mean across dimension in a 2D NumPy array"
      ],
      "metadata": {
        "id": "c2UHcMGj5EnV"
      }
    },
    {
      "cell_type": "code",
      "source": [
        "array = np.array([[1,2,3], [4,5,6], [7,8,9]])\n",
        "print(\"Array inicial de exemplo: \\n\", array)\n",
        "\n",
        "print(\"\\nMedias das linhas em sequencia de baixo pra cima: \", np.mean(array, axis=1))\n",
        "print(\"\\nMedias das colunas em sequencia da esquerda pra direita: \", np.mean(array, axis=0))"
      ],
      "metadata": {
        "colab": {
          "base_uri": "https://localhost:8080/"
        },
        "id": "Hgbj6-Nt5Gp0",
        "outputId": "1395aef7-5156-4f54-ef2d-f8cca8ea1ca4"
      },
      "execution_count": null,
      "outputs": [
        {
          "output_type": "stream",
          "name": "stdout",
          "text": [
            "Array inicial de exemplo: \n",
            " [[1 2 3]\n",
            " [4 5 6]\n",
            " [7 8 9]]\n",
            "\n",
            "Medias das linhas em sequencia de baixo pra cima:  [2. 5. 8.]\n",
            "\n",
            "Medias das colunas em sequencia da esquerda pra direita:  [4. 5. 6.]\n"
          ]
        }
      ]
    },
    {
      "cell_type": "markdown",
      "source": [
        "##Calculate the average, variance and standard deviation in Python using NumPy"
      ],
      "metadata": {
        "id": "ui1ldAAg6DU3"
      }
    },
    {
      "cell_type": "code",
      "source": [
        "array = np.array([1, 2, 3, 4, 5, 6, 7, 8, 9, 10])\n",
        "print(\"Array inicial de exemplo: \\n\", array)\n",
        "#average\n",
        "print(\"\\naverage: \", np.average(array))\n",
        "#variance\n",
        "print(\"\\nvariance: \", np.var(array))\n",
        "#standart deviation\n",
        "print(\"\\nstandart deviation: \", np.std(array))"
      ],
      "metadata": {
        "colab": {
          "base_uri": "https://localhost:8080/"
        },
        "id": "OeUj_TmE6E1_",
        "outputId": "9fbb99cb-1d11-462c-f3ba-edc7e129b3ce"
      },
      "execution_count": null,
      "outputs": [
        {
          "output_type": "stream",
          "name": "stdout",
          "text": [
            "Array inicial de exemplo: \n",
            " [ 1  2  3  4  5  6  7  8  9 10]\n",
            "\n",
            "average:  5.5\n",
            "\n",
            "variance:  8.25\n",
            "\n",
            "standart deviation:  2.8722813232690143\n"
          ]
        }
      ]
    },
    {
      "cell_type": "markdown",
      "source": [
        "##Describe a NumPy Array in Python"
      ],
      "metadata": {
        "id": "rfhhzQFr62kK"
      }
    },
    {
      "cell_type": "code",
      "source": [
        "print(np.array([1,2,3,4,5,6,7,8,9,10]))"
      ],
      "metadata": {
        "colab": {
          "base_uri": "https://localhost:8080/"
        },
        "id": "deOAoY8Z64oC",
        "outputId": "c4242564-7dab-459c-eddc-2cdb23e0f060"
      },
      "execution_count": null,
      "outputs": [
        {
          "output_type": "stream",
          "name": "stdout",
          "text": [
            "[ 1  2  3  4  5  6  7  8  9 10]\n"
          ]
        }
      ]
    },
    {
      "cell_type": "markdown",
      "source": [
        "#Questions on Polynomial"
      ],
      "metadata": {
        "id": "ang-sG_z7JfL"
      }
    },
    {
      "cell_type": "markdown",
      "source": [
        "##Define a polynomial function"
      ],
      "metadata": {
        "id": "Otew7eVk7Mr4"
      }
    },
    {
      "cell_type": "code",
      "source": [
        "p = np.poly1d([2, 4, 3, 1])\n",
        "print(\"Polinomio: \", p)\n",
        "print(\"\\nPara x = 3, temos: \\n2*3^3 + 4*3^2 + 3*3^1 + 1 = \", p(3))\n",
        "print(\"\\nRaízes: = \", p.roots)\n",
        "print(\"\\nCoeficientes = \", p.c)\n",
        "print(\"\\nP1 Ordem = \", p.o)"
      ],
      "metadata": {
        "id": "AeUVXWqe7Nyq",
        "colab": {
          "base_uri": "https://localhost:8080/"
        },
        "outputId": "d94d30a1-07ad-4bab-f397-826e67b7fdb7"
      },
      "execution_count": null,
      "outputs": [
        {
          "output_type": "stream",
          "name": "stdout",
          "text": [
            "Polinomio:     3     2\n",
            "2 x + 4 x + 3 x + 1\n",
            "\n",
            "Para x = 3, temos: \n",
            "2*3^3 + 4*3^2 + 3*3^1 + 1 =  100\n",
            "\n",
            "Raízes: =  [-1. +0.j  -0.5+0.5j -0.5-0.5j]\n",
            "\n",
            "Coeficientes =  [2 4 3 1]\n",
            "\n",
            "P1 Ordem =  3\n"
          ]
        }
      ]
    },
    {
      "cell_type": "markdown",
      "source": [
        "##How to add one polynomial to another using NumPy in Python?"
      ],
      "metadata": {
        "id": "6okO8I-q5PQg"
      }
    },
    {
      "cell_type": "code",
      "source": [
        "p1 = np.poly1d([1, 2, 1, 0])\n",
        "print(\"Polinomio1: \", p1)\n",
        "p2 = np.poly1d([1, 4, 5])\n",
        "print(\"\\nPolinomio2: \", p2)\n",
        "\n",
        "print(\"\\nAdicionando:\", )\n",
        "np.polyadd(p1, p2)\n"
      ],
      "metadata": {
        "colab": {
          "base_uri": "https://localhost:8080/"
        },
        "id": "67fxhGru5ReH",
        "outputId": "912b6d4f-9a11-4af9-e903-937bbf706751"
      },
      "execution_count": null,
      "outputs": [
        {
          "output_type": "stream",
          "name": "stdout",
          "text": [
            "Polinomio1:     3     2\n",
            "1 x + 2 x + 1 x\n",
            "\n",
            "Polinomio2:     2\n",
            "1 x + 4 x + 5\n",
            "\n",
            "Adicionando:\n"
          ]
        },
        {
          "output_type": "execute_result",
          "data": {
            "text/plain": [
              "poly1d([1, 3, 5, 5])"
            ]
          },
          "metadata": {},
          "execution_count": 17
        }
      ]
    },
    {
      "cell_type": "markdown",
      "source": [
        "##How to subtract one polynomial to another using NumPy in Python?"
      ],
      "metadata": {
        "id": "5R_azQ7T7AYY"
      }
    },
    {
      "cell_type": "code",
      "source": [
        "p1 = np.poly1d([1, 2, 1, 0])\n",
        "print(\"Polinomio1: \", p1)\n",
        "p2 = np.poly1d([1, 4, 5])\n",
        "print(\"\\nPolinomio2: \", p2)\n",
        "\n",
        "print(\"\\nSubtraindo:\", )\n",
        "np.polysub(p1, p2)\n"
      ],
      "metadata": {
        "colab": {
          "base_uri": "https://localhost:8080/"
        },
        "id": "EmTMzQfI7Cdx",
        "outputId": "ad80c023-0a8e-4ace-bbb5-e61f0b6a6533"
      },
      "execution_count": null,
      "outputs": [
        {
          "output_type": "stream",
          "name": "stdout",
          "text": [
            "Polinomio1:     3     2\n",
            "1 x + 2 x + 1 x\n",
            "\n",
            "Polinomio2:     2\n",
            "1 x + 4 x + 5\n",
            "\n",
            "Subtraindo:\n"
          ]
        },
        {
          "output_type": "execute_result",
          "data": {
            "text/plain": [
              "poly1d([ 1,  1, -3, -5])"
            ]
          },
          "metadata": {},
          "execution_count": 19
        }
      ]
    },
    {
      "cell_type": "markdown",
      "source": [
        "##How to multiply a polynomial to another using NumPy in Python?"
      ],
      "metadata": {
        "id": "KhHFqgsF7ToD"
      }
    },
    {
      "cell_type": "code",
      "source": [
        "p1 = np.poly1d([1, 2, 1, 0])\n",
        "print(\"Polinomio1: \", p1)\n",
        "p2 = np.poly1d([1, 4, 5])\n",
        "print(\"\\nPolinomio2: \", p2)\n",
        "\n",
        "print(\"\\nMultiplicando:\", )\n",
        "np.polymul(p1, p2)"
      ],
      "metadata": {
        "colab": {
          "base_uri": "https://localhost:8080/"
        },
        "id": "WonPfbsS7V00",
        "outputId": "4dce95ae-d74a-40d9-8abc-ad7232d6e911"
      },
      "execution_count": null,
      "outputs": [
        {
          "output_type": "stream",
          "name": "stdout",
          "text": [
            "Polinomio1:     3     2\n",
            "1 x + 2 x + 1 x\n",
            "\n",
            "Polinomio2:     2\n",
            "1 x + 4 x + 5\n",
            "\n",
            "Multiplicando:\n"
          ]
        },
        {
          "output_type": "execute_result",
          "data": {
            "text/plain": [
              "poly1d([ 1,  6, 14, 14,  5,  0])"
            ]
          },
          "metadata": {},
          "execution_count": 20
        }
      ]
    },
    {
      "cell_type": "markdown",
      "source": [
        "##How to divide a polynomial to another using NumPy in Python?"
      ],
      "metadata": {
        "id": "p8jkqrJn7kRM"
      }
    },
    {
      "cell_type": "code",
      "source": [
        "p1 = np.poly1d([1, 2, 1, 0])\n",
        "print(\"Polinomio1: \", p1)\n",
        "p2 = np.poly1d([1, 4, 5])\n",
        "print(\"\\nPolinomio2: \", p2)\n",
        "\n",
        "print(\"\\nDividindo:\", )\n",
        "np.polydiv(p1, p2)"
      ],
      "metadata": {
        "colab": {
          "base_uri": "https://localhost:8080/"
        },
        "id": "wB7pexwZ7mnF",
        "outputId": "e21a4a5a-1f63-4a93-eb18-39d2eb9e2682"
      },
      "execution_count": null,
      "outputs": [
        {
          "output_type": "stream",
          "name": "stdout",
          "text": [
            "Polinomio1:     3     2\n",
            "1 x + 2 x + 1 x\n",
            "\n",
            "Polinomio2:     2\n",
            "1 x + 4 x + 5\n",
            "\n",
            "Dividindo:\n"
          ]
        },
        {
          "output_type": "execute_result",
          "data": {
            "text/plain": [
              "(poly1d([ 1., -2.]), poly1d([ 4., 10.]))"
            ]
          },
          "metadata": {},
          "execution_count": 23
        }
      ]
    },
    {
      "cell_type": "markdown",
      "source": [
        "##Find the roots of the polynomials using NumPy"
      ],
      "metadata": {
        "id": "_gBGfEUo7ycK"
      }
    },
    {
      "cell_type": "code",
      "source": [
        "p = np.poly1d([1, 2, 1, 0])\n",
        "print(\"Polinomio: \", p)\n",
        "print(\"\\nRaízes: = \", p.roots)"
      ],
      "metadata": {
        "colab": {
          "base_uri": "https://localhost:8080/"
        },
        "id": "Cs4-GsEn708M",
        "outputId": "9bbb71a5-8ba6-459e-d7d5-5144cc7604c8"
      },
      "execution_count": null,
      "outputs": [
        {
          "output_type": "stream",
          "name": "stdout",
          "text": [
            "Polinomio:     3     2\n",
            "1 x + 2 x + 1 x\n",
            "\n",
            "Raízes: =  [-1. -1.  0.]\n"
          ]
        }
      ]
    },
    {
      "cell_type": "markdown",
      "source": [
        "##Evaluate a 2-D polynomial series on the Cartesian product"
      ],
      "metadata": {
        "id": "swcJt4yJ8Z9K"
      }
    },
    {
      "cell_type": "code",
      "source": [
        "from numpy.polynomial.polynomial import polygrid2d\n",
        "c = np.array([[1, 2, 3], [4, 5, 6]]) \n",
        "  \n",
        "ans = polygrid2d([7, 8], [9, 10], c)\n",
        "print(\"Resultado:\\n\", ans)"
      ],
      "metadata": {
        "colab": {
          "base_uri": "https://localhost:8080/"
        },
        "id": "0cJDde0D8cOr",
        "outputId": "e8ff19a0-9c2f-4879-ec98-bb9c4c30bc5e"
      },
      "execution_count": null,
      "outputs": [
        {
          "output_type": "stream",
          "name": "stdout",
          "text": [
            "Resultado:\n",
            " [[4007. 4899.]\n",
            " [4542. 5553.]]\n"
          ]
        }
      ]
    },
    {
      "cell_type": "markdown",
      "source": [
        "##Evaluate a 3-D polynomial series on the Cartesian product"
      ],
      "metadata": {
        "id": "El_fokgG85ld"
      }
    },
    {
      "cell_type": "code",
      "source": [
        "from numpy.polynomial.polynomial import polygrid3d\n",
        "  \n",
        "# Input polynomial series coefficients\n",
        "c = np.array([[1, 2, 3], [4, 5, 6], [7, 8, 9]]) \n",
        "  \n",
        "# using np.polygrid3d() method \n",
        "ans = polygrid3d([7, 8], [9, 10], [11, 12], c)\n",
        "print(\"Resultado:\\n\", ans)"
      ],
      "metadata": {
        "colab": {
          "base_uri": "https://localhost:8080/"
        },
        "id": "UIyypQxD87mi",
        "outputId": "8e701cb7-2278-4661-beec-1dd9d00af047"
      },
      "execution_count": null,
      "outputs": [
        {
          "output_type": "stream",
          "name": "stdout",
          "text": [
            "Resultado:\n",
            " [[662393. 718647.]\n",
            " [809193. 877914.]]\n"
          ]
        }
      ]
    },
    {
      "cell_type": "markdown",
      "source": [
        "#Questions on NumPy Strings"
      ],
      "metadata": {
        "id": "by-MiMrM9Na9"
      }
    },
    {
      "cell_type": "markdown",
      "source": [
        "##Repeat all the elements of a NumPy array of strings"
      ],
      "metadata": {
        "id": "AUD4PkYI9Qpo"
      }
    },
    {
      "cell_type": "code",
      "source": [
        "array = np.array(['Digital','Image','Processing'], dtype = str)\n",
        "print(\"Array usado no example: \", array)\n",
        "\n",
        "print(\"\\nArray com repetições: \", np.char.multiply(array, 2))"
      ],
      "metadata": {
        "colab": {
          "base_uri": "https://localhost:8080/"
        },
        "id": "sEQaQwe_9S4h",
        "outputId": "5a034807-e13d-469d-84ee-84b087063226"
      },
      "execution_count": null,
      "outputs": [
        {
          "output_type": "stream",
          "name": "stdout",
          "text": [
            "Array usado no example:  ['Digital' 'Image' 'Processing']\n",
            "\n",
            "Array com repetições:  ['DigitalDigital' 'ImageImage' 'ProcessingProcessing']\n"
          ]
        }
      ]
    },
    {
      "cell_type": "markdown",
      "source": [
        "##How to split the element of a given NumPy array with spaces?"
      ],
      "metadata": {
        "id": "rmWUqa9J-lMn"
      }
    },
    {
      "cell_type": "code",
      "source": [
        "array = np.array(['Digital Image Processing'], dtype = str)\n",
        "print(\"Array usado no example: \", array)\n",
        "\n",
        "print(\"\\nArray resultado: \", np.char.split(array))"
      ],
      "metadata": {
        "colab": {
          "base_uri": "https://localhost:8080/"
        },
        "id": "Vz6_UKJz-nxm",
        "outputId": "72e72b66-408e-4e88-9a83-0062372eb521"
      },
      "execution_count": null,
      "outputs": [
        {
          "output_type": "stream",
          "name": "stdout",
          "text": [
            "Array usado no example:  ['Digital Image Processing']\n",
            "\n",
            "Array resultado:  [list(['Digital', 'Image', 'Processing'])]\n"
          ]
        }
      ]
    },
    {
      "cell_type": "markdown",
      "source": [
        "##How to insert a space between characters of all the elements of a given NumPy array?"
      ],
      "metadata": {
        "id": "HPL7rQHQBWWt"
      }
    },
    {
      "cell_type": "code",
      "source": [
        "array = np.array(['Digital Image Processing'], dtype = str)\n",
        "print(\"Array usado no example: \", array)\n",
        "\n",
        "print(\"\\nArray resultado: \", np.char.join(\" \", array))"
      ],
      "metadata": {
        "colab": {
          "base_uri": "https://localhost:8080/"
        },
        "id": "bHYF_5nYBZBn",
        "outputId": "f9403417-025c-4b7c-fcb5-5b23dcdc68c2"
      },
      "execution_count": null,
      "outputs": [
        {
          "output_type": "stream",
          "name": "stdout",
          "text": [
            "Array usado no example:  ['Digital Image Processing']\n",
            "\n",
            "Array resultado:  ['D i g i t a l   I m a g e   P r o c e s s i n g']\n"
          ]
        }
      ]
    },
    {
      "cell_type": "markdown",
      "source": [
        "##Find the length of each string element in the Numpy array"
      ],
      "metadata": {
        "id": "RmMVR-YuBqQa"
      }
    },
    {
      "cell_type": "code",
      "source": [
        "array = np.array(['Digital', 'Image', 'Processing'], dtype = str)\n",
        "print(\"Array usado no example: \", array)\n",
        "len_checker = np.vectorize(len)\n",
        "print(\"\\nComprimento de cada elemento: \", len_checker(array))"
      ],
      "metadata": {
        "colab": {
          "base_uri": "https://localhost:8080/"
        },
        "id": "OI9QQ1DuBsjN",
        "outputId": "3b503b0a-1495-48ff-c6fb-a25d63ba508c"
      },
      "execution_count": null,
      "outputs": [
        {
          "output_type": "stream",
          "name": "stdout",
          "text": [
            "Array usado no example:  ['Digital' 'Image' 'Processing']\n",
            "\n",
            "Comprimento de cada elemento:  [ 7  5 10]\n"
          ]
        }
      ]
    },
    {
      "cell_type": "markdown",
      "source": [
        "##Swap the case of an array of string"
      ],
      "metadata": {
        "id": "cl7cs9BiCTAc"
      }
    },
    {
      "cell_type": "code",
      "source": [
        "array = np.array(['Digital Image Processing'], dtype = str)\n",
        "print(\"Array usado no example: \", array)\n",
        "\n",
        "print(\"\\nArray resultado: \", np.char.swapcase(array))"
      ],
      "metadata": {
        "colab": {
          "base_uri": "https://localhost:8080/"
        },
        "id": "uaiY1mLMCVdY",
        "outputId": "c5f82b65-08e1-4095-b148-910c44f434a2"
      },
      "execution_count": null,
      "outputs": [
        {
          "output_type": "stream",
          "name": "stdout",
          "text": [
            "Array usado no example:  ['Digital Image Processing']\n",
            "\n",
            "Array resultado:  ['dIGITAL iMAGE pROCESSING']\n"
          ]
        }
      ]
    },
    {
      "cell_type": "markdown",
      "source": [
        "##Change the case to uppercase of elements of an array"
      ],
      "metadata": {
        "id": "gvDHYP_qDa-w"
      }
    },
    {
      "cell_type": "code",
      "source": [
        "array = np.array(['Digital Image Processing'], dtype = str)\n",
        "print(\"Array usado no example: \", array)\n",
        "\n",
        "print(\"\\nArray resultado: \", np.char.upper(array))"
      ],
      "metadata": {
        "colab": {
          "base_uri": "https://localhost:8080/"
        },
        "id": "GxnrETq_DdMm",
        "outputId": "c57a9f9a-cc0b-4f86-a338-fefecc1f3273"
      },
      "execution_count": null,
      "outputs": [
        {
          "output_type": "stream",
          "name": "stdout",
          "text": [
            "Array usado no example:  ['Digital Image Processing']\n",
            "\n",
            "Array resultado:  ['DIGITAL IMAGE PROCESSING']\n"
          ]
        }
      ]
    },
    {
      "cell_type": "markdown",
      "source": [
        "##Change the case to lowercase of elements of an array"
      ],
      "metadata": {
        "id": "7NytQSIXDlf-"
      }
    },
    {
      "cell_type": "code",
      "source": [
        "array = np.array(['Digital Image Processing'], dtype = str)\n",
        "print(\"Array usado no example: \", array)\n",
        "\n",
        "print(\"\\nArray resultado: \", np.char.lower(array))"
      ],
      "metadata": {
        "colab": {
          "base_uri": "https://localhost:8080/"
        },
        "id": "YpEUImlqDnL_",
        "outputId": "5ed80f83-9613-4a66-f35e-b662023f8aad"
      },
      "execution_count": null,
      "outputs": [
        {
          "output_type": "stream",
          "name": "stdout",
          "text": [
            "Array usado no example:  ['Digital Image Processing']\n",
            "\n",
            "Array resultado:  ['digital image processing']\n"
          ]
        }
      ]
    },
    {
      "cell_type": "markdown",
      "source": [
        "##Join String by a seperator"
      ],
      "metadata": {
        "id": "ecmdiJaJDtF1"
      }
    },
    {
      "cell_type": "code",
      "source": [
        "array = np.array(['Digital Image Processing'], dtype = str)\n",
        "print(\"Array usado no example: \", array)\n",
        "\n",
        "print(\"\\nArray resultado: \", np.char.join('-', array))"
      ],
      "metadata": {
        "colab": {
          "base_uri": "https://localhost:8080/"
        },
        "id": "VuZmPu1gDvcj",
        "outputId": "57b53645-c06a-459b-9c35-035e3d1967cd"
      },
      "execution_count": null,
      "outputs": [
        {
          "output_type": "stream",
          "name": "stdout",
          "text": [
            "Array usado no example:  ['Digital Image Processing']\n",
            "\n",
            "Array resultado:  ['D-i-g-i-t-a-l- -I-m-a-g-e- -P-r-o-c-e-s-s-i-n-g']\n"
          ]
        }
      ]
    },
    {
      "cell_type": "markdown",
      "source": [
        "##Check if two same shaped string arrayss one by one"
      ],
      "metadata": {
        "id": "zot96MHKD7PC"
      }
    },
    {
      "cell_type": "code",
      "source": [
        "array1 = np.array(['Digital','Image','Processing'], dtype = str) \n",
        "print(\"Array1 usado no example: \", array1)\n",
        "array2 = np.array(['Processamento','Image','de Imagens'], dtype = str) \n",
        "print(\"\\nArray2 usado no example: \", array2)\n",
        "print(\"\\nResultado ao comparar posição por posição: \", np.char.equal(array1, array2))"
      ],
      "metadata": {
        "colab": {
          "base_uri": "https://localhost:8080/"
        },
        "id": "x_HBNRimD95T",
        "outputId": "e0842ee9-7dac-4948-de70-98de66d9a8dc"
      },
      "execution_count": null,
      "outputs": [
        {
          "output_type": "stream",
          "name": "stdout",
          "text": [
            "Array1 usado no example:  ['Digital' 'Image' 'Processing']\n",
            "\n",
            "Array2 usado no example:  ['Processamento' 'Image' 'de Imagens']\n",
            "\n",
            "Resultado ao comparar posição por posição:  [False  True False]\n"
          ]
        }
      ]
    },
    {
      "cell_type": "markdown",
      "source": [
        "##Count the number of substrings in an array"
      ],
      "metadata": {
        "id": "uKeonz7bEubt"
      }
    },
    {
      "cell_type": "code",
      "source": [
        "array = np.array(['Digital','Image','Processing'], dtype = str) \n",
        "print(\"Array1 usado no example: \", array1)\n",
        "print(\"\\nQuantidade de 'i' em cada elemento: \", np.char.count(array, sub='i'))"
      ],
      "metadata": {
        "colab": {
          "base_uri": "https://localhost:8080/"
        },
        "id": "pZIAhAFoExBS",
        "outputId": "b95c7a9e-ac6a-438a-d8ec-20261c1246bc"
      },
      "execution_count": null,
      "outputs": [
        {
          "output_type": "stream",
          "name": "stdout",
          "text": [
            "Array1 usado no example:  ['Digital' 'Image' 'Processing']\n",
            "\n",
            "Quantidade de 'i' em cada element0:  [2 0 1]\n"
          ]
        }
      ]
    },
    {
      "cell_type": "markdown",
      "source": [
        "##Find the lowest index of the substring in an array"
      ],
      "metadata": {
        "id": "YS1xPQiRFe7U"
      }
    },
    {
      "cell_type": "code",
      "source": [
        "array = np.array(['Digital','Image','Processing'], dtype = str) \n",
        "print(\"Array1 usado no example: \", array1)\n",
        "\n",
        "print(\"\\nIndice do primeiro 'i' em cada element0: \", np.char.find(array,'i'))"
      ],
      "metadata": {
        "colab": {
          "base_uri": "https://localhost:8080/"
        },
        "id": "TbsE-zM1FyNk",
        "outputId": "f766bd72-0859-43c2-ccd7-484cb263efc3"
      },
      "execution_count": null,
      "outputs": [
        {
          "output_type": "stream",
          "name": "stdout",
          "text": [
            "Array1 usado no example:  ['Digital' 'Image' 'Processing']\n",
            "\n",
            "Indice do primeiro 'i' em cada element0:  [ 1 -1  7]\n"
          ]
        }
      ]
    },
    {
      "cell_type": "markdown",
      "source": [
        "##Get the boolean array when values end with a particular character"
      ],
      "metadata": {
        "id": "PKXh48y0GY9i"
      }
    },
    {
      "cell_type": "code",
      "source": [
        "array = np.array(['Digital','Image','Processing'], dtype = str) \n",
        "print(\"Array1 usado no example: \", array1)\n",
        "\n",
        "print(\"\\nResultado para terminados em 'g': \", np.char.endswith(array,'g'))"
      ],
      "metadata": {
        "colab": {
          "base_uri": "https://localhost:8080/"
        },
        "id": "sEjO45GIGbaz",
        "outputId": "0fa564dd-6686-40c2-c8c2-4a85c7c446ea"
      },
      "execution_count": null,
      "outputs": [
        {
          "output_type": "stream",
          "name": "stdout",
          "text": [
            "Array1 usado no example:  ['Digital' 'Image' 'Processing']\n",
            "\n",
            "Resultado para terminados em 'g':  [False False  True]\n"
          ]
        }
      ]
    },
    {
      "cell_type": "markdown",
      "source": [
        "##Different ways to convert a Python dictionary to a NumPy array"
      ],
      "metadata": {
        "id": "cgRJ1d1FGsQQ"
      }
    },
    {
      "cell_type": "code",
      "source": [
        "dict = {1:'Digital',\n",
        "        2:'Image',\n",
        "        3:'Processing'}\n",
        "print(\"Forma inicial do dicionario: \", dict)\n",
        "aux = dict.items()\n",
        "array = np.array(aux)\n",
        "print(\"\\nResultado após conversão para NumPy array: \", array)  "
      ],
      "metadata": {
        "colab": {
          "base_uri": "https://localhost:8080/"
        },
        "id": "-4FsMM7iG3NN",
        "outputId": "4ccac6c2-4a04-4031-da6d-5f8d190d1faf"
      },
      "execution_count": null,
      "outputs": [
        {
          "output_type": "stream",
          "name": "stdout",
          "text": [
            "Forma inicial do dicionario:  {1: 'Digital', 2: 'Image', 3: 'Processing'}\n",
            "\n",
            "Resultado após conversão para NumPy array:  dict_items([(1, 'Digital'), (2, 'Image'), (3, 'Processing')])\n"
          ]
        }
      ]
    },
    {
      "cell_type": "markdown",
      "source": [
        "##How to convert a list and tuple into NumPy arrays?"
      ],
      "metadata": {
        "id": "B4QisvS3HkR4"
      }
    },
    {
      "cell_type": "code",
      "source": [
        "list_ = [1,2,3,4,5]\n",
        "print(\"Forma inicial da lista: \", list_)\n",
        "tuple_ =  ([6,7,8,9,10],[11,12,13,14,15])\n",
        "print(\"\\nForma inicial da tupla: \", tuple_)\n",
        "array1 = np.asarray(list_)\n",
        "print(\"\\nResultado após conversão da lista para NumPy array: \", array1)  \n",
        "array2 = np.asarray(tuple_)\n",
        "print(\"\\nResultado após conversão da tupla para NumPy array: \", array2)  "
      ],
      "metadata": {
        "colab": {
          "base_uri": "https://localhost:8080/"
        },
        "id": "2G8cp-pYHmg3",
        "outputId": "256fd1f7-4b0c-4b2c-e225-40f01e5e08c8"
      },
      "execution_count": null,
      "outputs": [
        {
          "output_type": "stream",
          "name": "stdout",
          "text": [
            "Forma inicial da lista:  [1, 2, 3, 4, 5]\n",
            "\n",
            "Forma inicial da tupla:  ([6, 7, 8, 9, 10], [11, 12, 13, 14, 15])\n",
            "\n",
            "Resultado após conversão da lista para NumPy array:  [1 2 3 4 5]\n",
            "\n",
            "Resultado após conversão da tupla para NumPy array:  [[ 6  7  8  9 10]\n",
            " [11 12 13 14 15]]\n"
          ]
        }
      ]
    },
    {
      "cell_type": "markdown",
      "source": [
        "##Ways to convert array of strings to array of floats"
      ],
      "metadata": {
        "id": "cRyUp-vaIfBX"
      }
    },
    {
      "cell_type": "code",
      "source": [
        "array1 = np.array([\"1.1\", \"1.5\", \"2.7\", \"8.9\"])\n",
        " \n",
        "print (\"Resultado: \", array1.astype(np.float64))"
      ],
      "metadata": {
        "colab": {
          "base_uri": "https://localhost:8080/"
        },
        "id": "3rOEhTDwIh0i",
        "outputId": "6fc1a184-1c38-459b-e564-b9e374d47541"
      },
      "execution_count": null,
      "outputs": [
        {
          "output_type": "stream",
          "name": "stdout",
          "text": [
            "Resultado:  [1.1 1.5 2.7 8.9]\n"
          ]
        }
      ]
    },
    {
      "cell_type": "markdown",
      "source": [
        "##Convert a NumPy array into a csv file"
      ],
      "metadata": {
        "id": "YNlcj4Z9JCkm"
      }
    },
    {
      "cell_type": "code",
      "source": [
        "import pandas as pd\n",
        "#o arquivo estará no ficheiro do colab\n",
        "array = np.array([[1,2,3,4,5],[6,7,8,9,10]])\n",
        "\n",
        "DF = pd.DataFrame(array) \n",
        "DF.to_csv(\"data.csv\")"
      ],
      "metadata": {
        "id": "dwpZ5yIsJFZW"
      },
      "execution_count": null,
      "outputs": []
    },
    {
      "cell_type": "markdown",
      "source": [
        "##How to Convert an image to NumPy array and save it to CSV file using Python?"
      ],
      "metadata": {
        "id": "RdlINAy_JyEt"
      }
    },
    {
      "cell_type": "code",
      "source": [
        "from PIL import Image\n",
        "#Para executar baixe uma uma imagem e a nomeie de \"transferir.jpg\" e ponha no ficheiro do colab\n",
        "img = Image.open(\"transferir.jpg\")\n",
        "image =  np.asarray(img)\n",
        "DF = pd.DataFrame(image) \n",
        "DF.to_csv(\"data1.csv\")"
      ],
      "metadata": {
        "id": "D20Mf9m2Jyvm"
      },
      "execution_count": null,
      "outputs": []
    },
    {
      "cell_type": "markdown",
      "source": [
        "##How to save a NumPy array to a text file?"
      ],
      "metadata": {
        "id": "D_uoGr4QLLw7"
      }
    },
    {
      "cell_type": "code",
      "source": [
        "array = np.array([1,2,3,4,5,6,7,8,9,10])\n",
        "#o arquivo estará no ficheiro do colab\n",
        "print(\"Array usado no examplo: \", array)\n",
        "file = open(\"file_.txt\", \"w+\")\n",
        "content = str(array)\n",
        "file.write(content)\n",
        "file.close()"
      ],
      "metadata": {
        "colab": {
          "base_uri": "https://localhost:8080/"
        },
        "id": "XSSwiHAbLPyy",
        "outputId": "ad9f00f3-7b9f-4c4a-eb75-57b154e5e36e"
      },
      "execution_count": null,
      "outputs": [
        {
          "output_type": "stream",
          "name": "stdout",
          "text": [
            "Array usado no examplo:  [ 1  2  3  4  5  6  7  8  9 10]\n"
          ]
        }
      ]
    },
    {
      "cell_type": "markdown",
      "source": [
        "##Load data from a text file"
      ],
      "metadata": {
        "id": "284HA7amLs-D"
      }
    },
    {
      "cell_type": "code",
      "source": [
        "#o arquivo lido estará no ficheiro do colab\n",
        "file = open(\"file_.txt\", \"r\")\n",
        "content = file.read()\n",
        " \n",
        "print(\"Conteudo do aquivo file_.txt:\\n\", content)\n",
        "file.close()"
      ],
      "metadata": {
        "colab": {
          "base_uri": "https://localhost:8080/"
        },
        "id": "YCDqyrLZLwMc",
        "outputId": "33e3fde0-94b0-48c8-8b2f-026ec3a7faf8"
      },
      "execution_count": null,
      "outputs": [
        {
          "output_type": "stream",
          "name": "stdout",
          "text": [
            "Conteudo do aquivo file_.txt:\n",
            " [ 1  2  3  4  5  6  7  8  9 10]\n"
          ]
        }
      ]
    },
    {
      "cell_type": "markdown",
      "source": [
        "##Plot line graph from NumPy array"
      ],
      "metadata": {
        "id": "eBUACSoBL9MF"
      }
    },
    {
      "cell_type": "code",
      "source": [
        "import matplotlib.pyplot as plt\n",
        " \n",
        "array = np.array([1,2,3,4,5,6,7,8,9,10])\n",
        "print(\"Array usado no examplo: \", array1)\n",
        "print(\"\\n\")\n",
        "saida = array**2\n",
        " \n",
        "plt.title(\"Line graph\")\n",
        "plt.xlabel(\"X axis\")\n",
        "plt.ylabel(\"Y axis\")\n",
        "plt.plot(array, saida, color =\"red\")\n",
        "plt.show()"
      ],
      "metadata": {
        "colab": {
          "base_uri": "https://localhost:8080/",
          "height": 349
        },
        "id": "Mjbgnq9fMnII",
        "outputId": "3e97a628-8b9b-4942-fa50-d076927082d6"
      },
      "execution_count": null,
      "outputs": [
        {
          "output_type": "stream",
          "name": "stdout",
          "text": [
            "Array usado no examplo:  ['1.1' '1.5' '2.7' '8.9']\n",
            "\n",
            "\n"
          ]
        },
        {
          "output_type": "display_data",
          "data": {
            "text/plain": [
              "<Figure size 432x288 with 1 Axes>"
            ],
            "image/png": "[encoded data removed]"
          },
          "metadata": {
            "needs_background": "light"
          }
        }
      ]
    },
    {
      "cell_type": "markdown",
      "source": [
        "##Create Histogram using NumPy"
      ],
      "metadata": {
        "id": "Y3S3JIbNNLML"
      }
    },
    {
      "cell_type": "code",
      "source": [
        "array = np.array([10,21,39,42,58,63,77,84,96,15])\n",
        "print(\"Array usado no examplo: \", array1)\n",
        " \n",
        "fig, ax = plt.subplots(figsize =(10, 7))\n",
        "ax.hist(array, bins = [0, 25, 50, 75, 100])\n",
        " \n",
        "plt.show()"
      ],
      "metadata": {
        "colab": {
          "base_uri": "https://localhost:8080/",
          "height": 446
        },
        "id": "_R1ndaAuNNR7",
        "outputId": "a5d42777-0fd9-4ed9-ba70-b175f46f63cb"
      },
      "execution_count": null,
      "outputs": [
        {
          "output_type": "stream",
          "name": "stdout",
          "text": [
            "Array usado no examplo:  ['1.1' '1.5' '2.7' '8.9']\n"
          ]
        },
        {
          "output_type": "display_data",
          "data": {
            "text/plain": [
              "<Figure size 720x504 with 1 Axes>"
            ],
            "image/png": "[encoded data removed]"
          },
          "metadata": {
            "needs_background": "light"
          }
        }
      ]
    }
  ]
}